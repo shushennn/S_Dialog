{
 "cells": [
  {
   "cell_type": "markdown",
   "id": "5ba1329c",
   "metadata": {},
   "source": [
    "# Praktische Anwendungen in Berufsfeldern: Dialogsystem\n",
    "\n",
    "## *Professor Burkhardt*\n",
    "\n",
    "### *Shushen Manakhimova*\n",
    "#### Sommersemester 2021 01.09.2021"
   ]
  },
  {
   "cell_type": "markdown",
   "id": "8993dd49",
   "metadata": {},
   "source": [
    "In the project we use code by Tobias Wendel (file_update) as well as Elize Project from https://github.com/codeanticode/eliza\n",
    "\n",
    "We begin with downloading all the required modules for the project. Here, we have all the modules required for different parts of the project. Modules are files with Python code (a code library or a set of functions that you need) that can be imported inside another Python Program.\n",
    "\n",
    "You can use any Python source file as a module by executing an import statement in some other Python source file."
   ]
  },
  {
   "cell_type": "code",
   "execution_count": 1,
   "id": "4660577b",
   "metadata": {},
   "outputs": [],
   "source": [
    "import requests\n",
    "from eliza import eliza\n",
    "import json\n",
    "import sox\n",
    "from wendel_util import file_update\n",
    "from incidence import incidence\n",
    "import emorec\n",
    "from google.cloud import speech\n",
    "import io\n",
    "import os, sys\n",
    "import sounddevice as sd\n",
    "import soundfile as sf\n",
    "import numpy as np\n",
    "from scipy.io.wavfile import write\n",
    "import pickle\n",
    "import pyttsx3"
   ]
  },
  {
   "cell_type": "code",
   "execution_count": 2,
   "id": "9cfc79b4",
   "metadata": {
    "scrolled": true
   },
   "outputs": [
    {
     "name": "stdout",
     "output_type": "stream",
     "text": [
      "Up To Date\n"
     ]
    }
   ],
   "source": [
    "file_update()\n",
    "vaccinations = open('vaccinations.json')\n",
    "vaccinations = json.load(vaccinations)"
   ]
  },
  {
   "cell_type": "code",
   "execution_count": 3,
   "id": "f72dd5c7",
   "metadata": {},
   "outputs": [
    {
     "name": "stdout",
     "output_type": "stream",
     "text": [
      "Up To Date\n"
     ]
    },
    {
     "data": {
      "text/plain": [
       "75"
      ]
     },
     "execution_count": 3,
     "metadata": {},
     "output_type": "execute_result"
    }
   ],
   "source": []
  },
  {
   "cell_type": "code",
   "execution_count": 4,
   "id": "f3ff4913",
   "metadata": {},
   "outputs": [],
   "source": [
    "sr = 16000  # Sample rate\n",
    "duration = 3  # Duration of recording\n",
    "filename = 'myfile.wav' #recording of my speech"
   ]
  },
  {
   "cell_type": "code",
   "execution_count": 5,
   "id": "3664a27b",
   "metadata": {},
   "outputs": [],
   "source": [
    "def record_file():\n",
    "    data = sd.rec(int(duration * sr), samplerate=sr, channels=1)\n",
    "    sd.wait()  \n",
    "    sf.write(filename, data, sr)\n",
    "    # Convert `data` to 16 bit integers:\n",
    "    y = (np.iinfo(np.int16).max * (data/np.abs(data).max())).astype(np.int16) \n",
    "    write(filename, sr, y)"
   ]
  },
  {
   "cell_type": "code",
   "execution_count": 6,
   "id": "8328fecb",
   "metadata": {},
   "outputs": [],
   "source": [
    "def init_google():\n",
    "    credentials='/Users/romanoganesyan/github/S_Dialog/true-sprite-320717-fbd9b9414a32.json'\n",
    "    os.environ[\"GOOGLE_APPLICATION_CREDENTIALS\"]=credentials"
   ]
  },
  {
   "cell_type": "code",
   "execution_count": 7,
   "id": "5a641d0b",
   "metadata": {},
   "outputs": [],
   "source": [
    "init_google()"
   ]
  },
  {
   "cell_type": "code",
   "execution_count": 8,
   "id": "9375e109",
   "metadata": {},
   "outputs": [],
   "source": [
    "def normalize(in_s):\n",
    "    # e.g. remove stopwords, lemmatization, stemming, \n",
    "    return in_s.lower()"
   ]
  },
  {
   "cell_type": "code",
   "execution_count": 9,
   "id": "59603611",
   "metadata": {},
   "outputs": [],
   "source": [
    "def transcribe(): #transcribing my speech into text\n",
    "    client = speech.SpeechClient()\n",
    "    with io.open(filename, \"rb\") as audio_file:\n",
    "        content = audio_file.read()\n",
    "    audio = speech.RecognitionAudio(content = content)\n",
    "    config = speech.RecognitionConfig(\n",
    "        encoding=speech.RecognitionConfig.AudioEncoding.LINEAR16,\n",
    "        language_code=\"de-DE\",\n",
    "    )\n",
    "    response = client.recognize(config=config, audio=audio)\n",
    "    for result in response.results:\n",
    "        for index, alternative in enumerate(result.alternatives):\n",
    "            print(\"Transcript {}: {}\".format(index, alternative.transcript))\n",
    "            return alternative.transcript"
   ]
  },
  {
   "cell_type": "code",
   "execution_count": 10,
   "id": "a6a752fd",
   "metadata": {},
   "outputs": [],
   "source": [
    "def speech_input():\n",
    "    record_file()\n",
    "    text = transcribe()\n",
    "    return text"
   ]
  },
  {
   "cell_type": "code",
   "execution_count": 11,
   "id": "93489e8b",
   "metadata": {},
   "outputs": [],
   "source": [
    " def do_input():\n",
    "    return speech_input()"
   ]
  },
  {
   "cell_type": "code",
   "execution_count": 12,
   "id": "61c8e088",
   "metadata": {},
   "outputs": [],
   "source": [
    "phrases = {'hello':'Willkommen bei der Corona Impfauskunft. Fragen Sie!', \n",
    "    'continue':'Weiter!', \n",
    "    'goodbye':'Vielen Dank für Ihren Besuch!', \n",
    "    'done':'fertig', \n",
    "    'done':'tschüss'}\n",
    "\n",
    "\n",
    "\n",
    "\n",
    "states_d = {'schleswig':'SH', 'hamburg':'HH', 'berlin':'BE', 'bayern':'BY', \n",
    "            'niedersachsen': 'NI', 'bremen': 'HB', \n",
    "            'nordrhein':'NW', 'hessen':'HE', 'rheinland':'RP', 'baden':'BW', \n",
    "            'saarland': 'SL', 'brandenburg':'BB', 'mecklenburg':'MV', 'sachsen':'SN',\n",
    "            'anhalt':'ST', 'thüringen':'TH', 'deutschland':'DE', 'hier':'DE'}\n",
    "state_names = {'SH':'Schleswig-Hostein', 'HH':'Hamburg', 'BE':'Berlin', 'BY':'Bayern', \n",
    "            'NI':'Niedersachsen', 'HB':'Bremen', \n",
    "            'NW': 'Nordrhein Westphalen', 'HE':'Hessen', 'RP':'Rheinland Pfalz', 'BW':'Baden Würthenberg', \n",
    "            'SL':'Saarland', 'BB':'Brandenburg', 'MV':'Mecklenburg Vorpommern', \n",
    "            'SN': 'Sachsen', 'ST':'Sachsen-Anhalt', 'TH':'Thüringen', 'DE':'Deutschland'}\n",
    "vaccines_d = {'biontech':'biontech', 'biontec':'biontech', \n",
    "              'moderna':'moderna', \n",
    "              'janssen':'janssen', 'jansen':'janssen',\n",
    "              'delta':'delta',\n",
    "              'astraZeneca':'astraZeneca', 'astra':'astraZeneca', 'zeneca':'astraZeneca'}\n",
    "vaccine_names = {'biontech':'Biontech', 'moderna':'Moderna', 'janssen':'Janssen', 'delta':'Delta',\n",
    "              'astraZeneca':'Astra Zeneca'}\n",
    "incidence_p = {'Lockdown': 'lockdown', 'lockdown': 'Lockdown', 'geschlossen': 'Geschlossen', 'Geschlossen': 'geschlossen'}"
   ]
  },
  {
   "cell_type": "code",
   "execution_count": 13,
   "id": "d9417ce2",
   "metadata": {},
   "outputs": [],
   "source": [
    "def semantic(input_s):\n",
    "    semantics = {'state':'', 'vaccine':'', 'incidence': '', 'answer':0}\n",
    "    for key in states_d.keys():\n",
    "        if key in input_s:\n",
    "            semantics['state'] = states_d[key]\n",
    "            break\n",
    "    for key in vaccines_d.keys():\n",
    "        if key in input_s:\n",
    "            semantics['vaccine'] = vaccines_d[key]\n",
    "            break\n",
    "    for key in incidence_p.keys():\n",
    "        if key in input_s:\n",
    "            semantics['incidence'] = incidence_p[key]\n",
    "            break\n",
    "    return semantics"
   ]
  },
  {
   "cell_type": "code",
   "execution_count": 14,
   "id": "31573196",
   "metadata": {},
   "outputs": [],
   "source": [
    "# expects semantics: semantics[0] == bundesland, semantics[1] == impfstoff \n",
    "def data(semantics):\n",
    "    s = semantics['state']\n",
    "    v = semantics['vaccine']\n",
    "    i = semantics['incidence']\n",
    "    if i:\n",
    "        if inc > 30:\n",
    "            semantics['answer'] = 'Ja'\n",
    "        else:\n",
    "            semantics['answer'] = 'Nein'\n",
    "    elif s: # state given\n",
    "        if s != 'DE':\n",
    "            if v: # and vaccine given\n",
    "                semantics['answer'] = vaccinations[\"data\"][\"states\"][s]['vaccination'][v]\n",
    "            else: # all vaccines for state\n",
    "                semantics['answer'] = vaccinations[\"data\"][\"states\"][s]['vaccinated']\n",
    "        else:\n",
    "            if v: # and vaccine given\n",
    "                semantics['answer'] = vaccinations[\"data\"]['vaccination'][v]\n",
    "            else: # all vaccines for Germany\n",
    "                semantics['answer'] = vaccinations['data']['vaccinated']\n",
    "    else: # no state\n",
    "        if v: # but vaccine\n",
    "            semantics['answer'] = vaccinations[\"data\"]['vaccination'][v]\n",
    "        else: # nothing given\n",
    "            semantics['answer'] = None\n",
    "    \n",
    "    return semantics"
   ]
  },
  {
   "cell_type": "code",
   "execution_count": 15,
   "id": "cc1ebd2b",
   "metadata": {},
   "outputs": [],
   "source": [
    "def output(semantics, inputs, elz):\n",
    "    ret = ''\n",
    "\n",
    "    s = semantics['state']\n",
    "    v = semantics['vaccine']\n",
    "    a = semantics['answer']\n",
    "    i = semantics['incidence']\n",
    "    if i:\n",
    "        ret = '{},  denn die 7-Tage Inzidenz ist {}'.format(a, inc)\n",
    "    elif s: # state given\n",
    "        s = state_names[s]\n",
    "        if v: # and vaccine given\n",
    "            v = vaccine_names[v]\n",
    "            ret = 'Die Impfungen für {} mit {} sind {}'.format(s, v, a)\n",
    "        else: # all vaccines for state\n",
    "            ret = 'Die Impfungen für {} sind {}'.format(s, a)\n",
    "    else: # no state\n",
    "        if v: # but vaccine\n",
    "            v = vaccine_names[v]\n",
    "            ret = 'Die Impfungen in Deutschland mit {} sind {}'.format(v, a)\n",
    "        else: # nothing given\n",
    "            ret =  elz.respond(inputs)\n",
    "    \n",
    "    return ret"
   ]
  },
  {
   "cell_type": "code",
   "execution_count": 16,
   "id": "d3f0fcdc",
   "metadata": {},
   "outputs": [],
   "source": [
    "def init_eliza():\n",
    "    root = r'/Users/romanoganesyan/github/S_Dialog/'\n",
    "    elz = eliza.Eliza()\n",
    "    elz.load(root+'eliza/deutsch.txt')\n",
    "    return elz"
   ]
  },
  {
   "cell_type": "code",
   "execution_count": 17,
   "id": "f70cc5f8",
   "metadata": {},
   "outputs": [],
   "source": [
    "def tts(text):\n",
    "    engine = pyttsx3.init()\n",
    "    engine.setProperty('voice', 'german')\n",
    "    engine.setProperty('rate', 200)\n",
    "    engine.say(text)\n",
    "    engine.runAndWait()"
   ]
  },
  {
   "cell_type": "code",
   "execution_count": 18,
   "id": "fd1cca5a",
   "metadata": {},
   "outputs": [],
   "source": [
    "def output_s(text):\n",
    "    print('output: '+text)\n",
    "    tts(text)"
   ]
  },
  {
   "cell_type": "code",
   "execution_count": 19,
   "id": "59a05a1b",
   "metadata": {},
   "outputs": [],
   "source": [
    "emo_dict = {'happiness':'freundlich', 'neutral': 'wie immer', 'anger': 'ärgerlich', 'sadness': 'traurig', \n",
    "            'fear': 'ängstlich', 'boredom':'gelangweilt', 'disgust':'angeekelt'}"
   ]
  },
  {
   "cell_type": "code",
   "execution_count": 20,
   "id": "72175e66",
   "metadata": {},
   "outputs": [],
   "source": [
    "def dialogmanager(elz):\n",
    "    output_s(phrases['hello'])\n",
    "    input_s = do_input()\n",
    "    if (input_s):\n",
    "        input_s = normalize(input_s)\n",
    "    while input_s and input_s != phrases['done']: \n",
    "        emotion = emoRec.classify(filename)[0]\n",
    "        emotion_g = emo_dict[emotion]\n",
    "        output_s('ich merke du bist '+emotion_g)\n",
    "        semantics = semantic(input_s)\n",
    "        semantics = data(semantics)\n",
    "        out_string = output(semantics, input_s, elz)\n",
    "        output_s(out_string)\n",
    "        input_s = do_input()\n",
    "        if (input_s):\n",
    "            input_s = normalize(input_s)\n",
    "    output_s('Tschüss')    \n",
    "    "
   ]
  },
  {
   "cell_type": "code",
   "execution_count": 22,
   "id": "0c22bf6e",
   "metadata": {
    "scrolled": false
   },
   "outputs": [
    {
     "name": "stdout",
     "output_type": "stream",
     "text": [
      "output: Willkommen bei der Corona Impfauskunft. Fragen Sie!\n"
     ]
    },
    {
     "name": "stderr",
     "output_type": "stream",
     "text": [
      "2021-08-31 20:46:35.840 Python[90706:2287959] NSSpeechSynthesizer: [NSSpeechSynthesizer setVoice:] - Voice identifier not found.\n"
     ]
    },
    {
     "name": "stdout",
     "output_type": "stream",
     "text": [
      "Transcript 0: Lockdown Lockdown\n",
      "output: ich merke du bist gelangweilt\n"
     ]
    },
    {
     "name": "stderr",
     "output_type": "stream",
     "text": [
      "2021-08-31 20:46:46.048 Python[90706:2287959] NSSpeechSynthesizer: [NSSpeechSynthesizer setVoice:] - Voice identifier not found.\n"
     ]
    },
    {
     "name": "stdout",
     "output_type": "stream",
     "text": [
      "output: Ja,  denn die 7-Tage Inzidenz ist 75\n"
     ]
    },
    {
     "name": "stderr",
     "output_type": "stream",
     "text": [
      "2021-08-31 20:46:48.149 Python[90706:2287959] NSSpeechSynthesizer: [NSSpeechSynthesizer setVoice:] - Voice identifier not found.\n"
     ]
    },
    {
     "name": "stdout",
     "output_type": "stream",
     "text": [
      "Transcript 0: na dann macht euch wieder zurück Dauer Probezeit\n",
      "output: ich merke du bist angeekelt\n"
     ]
    },
    {
     "name": "stderr",
     "output_type": "stream",
     "text": [
      "2021-08-31 20:47:00.259 Python[90706:2287959] NSSpeechSynthesizer: [NSSpeechSynthesizer setVoice:] - Voice identifier not found.\n"
     ]
    },
    {
     "name": "stdout",
     "output_type": "stream",
     "text": [
      "output: Ich bin nicht sicher, ob ich dich verstanden habe.\n"
     ]
    },
    {
     "name": "stderr",
     "output_type": "stream",
     "text": [
      "2021-08-31 20:47:02.374 Python[90706:2287959] NSSpeechSynthesizer: [NSSpeechSynthesizer setVoice:] - Voice identifier not found.\n"
     ]
    },
    {
     "ename": "KeyboardInterrupt",
     "evalue": "",
     "output_type": "error",
     "traceback": [
      "\u001b[0;31m---------------------------------------------------------------------------\u001b[0m",
      "\u001b[0;31mKeyboardInterrupt\u001b[0m                         Traceback (most recent call last)",
      "\u001b[0;32m/var/folders/92/d8ykj4ms1j71l5rkxfq43wxc0000gn/T/ipykernel_90706/1934394542.py\u001b[0m in \u001b[0;36m<module>\u001b[0;34m\u001b[0m\n\u001b[1;32m      1\u001b[0m \u001b[0melz\u001b[0m \u001b[0;34m=\u001b[0m \u001b[0minit_eliza\u001b[0m\u001b[0;34m(\u001b[0m\u001b[0;34m)\u001b[0m\u001b[0;34m\u001b[0m\u001b[0;34m\u001b[0m\u001b[0m\n\u001b[1;32m      2\u001b[0m \u001b[0memoRec\u001b[0m \u001b[0;34m=\u001b[0m \u001b[0memorec\u001b[0m\u001b[0;34m.\u001b[0m\u001b[0mEmoRec\u001b[0m\u001b[0;34m(\u001b[0m\u001b[0;34m)\u001b[0m\u001b[0;34m\u001b[0m\u001b[0;34m\u001b[0m\u001b[0m\n\u001b[0;32m----> 3\u001b[0;31m \u001b[0mdialogmanager\u001b[0m\u001b[0;34m(\u001b[0m\u001b[0melz\u001b[0m\u001b[0;34m)\u001b[0m\u001b[0;34m\u001b[0m\u001b[0;34m\u001b[0m\u001b[0m\n\u001b[0m",
      "\u001b[0;32m/var/folders/92/d8ykj4ms1j71l5rkxfq43wxc0000gn/T/ipykernel_90706/479922393.py\u001b[0m in \u001b[0;36mdialogmanager\u001b[0;34m(elz)\u001b[0m\n\u001b[1;32m     11\u001b[0m         \u001b[0msemantics\u001b[0m \u001b[0;34m=\u001b[0m \u001b[0mdata\u001b[0m\u001b[0;34m(\u001b[0m\u001b[0msemantics\u001b[0m\u001b[0;34m)\u001b[0m\u001b[0;34m\u001b[0m\u001b[0;34m\u001b[0m\u001b[0m\n\u001b[1;32m     12\u001b[0m         \u001b[0mout_string\u001b[0m \u001b[0;34m=\u001b[0m \u001b[0moutput\u001b[0m\u001b[0;34m(\u001b[0m\u001b[0msemantics\u001b[0m\u001b[0;34m,\u001b[0m \u001b[0minput_s\u001b[0m\u001b[0;34m,\u001b[0m \u001b[0melz\u001b[0m\u001b[0;34m)\u001b[0m\u001b[0;34m\u001b[0m\u001b[0;34m\u001b[0m\u001b[0m\n\u001b[0;32m---> 13\u001b[0;31m         \u001b[0moutput_s\u001b[0m\u001b[0;34m(\u001b[0m\u001b[0mout_string\u001b[0m\u001b[0;34m)\u001b[0m\u001b[0;34m\u001b[0m\u001b[0;34m\u001b[0m\u001b[0m\n\u001b[0m\u001b[1;32m     14\u001b[0m         \u001b[0minput_s\u001b[0m \u001b[0;34m=\u001b[0m \u001b[0mdo_input\u001b[0m\u001b[0;34m(\u001b[0m\u001b[0;34m)\u001b[0m\u001b[0;34m\u001b[0m\u001b[0;34m\u001b[0m\u001b[0m\n\u001b[1;32m     15\u001b[0m         \u001b[0;32mif\u001b[0m \u001b[0;34m(\u001b[0m\u001b[0minput_s\u001b[0m\u001b[0;34m)\u001b[0m\u001b[0;34m:\u001b[0m\u001b[0;34m\u001b[0m\u001b[0;34m\u001b[0m\u001b[0m\n",
      "\u001b[0;32m/var/folders/92/d8ykj4ms1j71l5rkxfq43wxc0000gn/T/ipykernel_90706/2632846652.py\u001b[0m in \u001b[0;36moutput_s\u001b[0;34m(text)\u001b[0m\n\u001b[1;32m      1\u001b[0m \u001b[0;32mdef\u001b[0m \u001b[0moutput_s\u001b[0m\u001b[0;34m(\u001b[0m\u001b[0mtext\u001b[0m\u001b[0;34m)\u001b[0m\u001b[0;34m:\u001b[0m\u001b[0;34m\u001b[0m\u001b[0;34m\u001b[0m\u001b[0m\n\u001b[1;32m      2\u001b[0m     \u001b[0mprint\u001b[0m\u001b[0;34m(\u001b[0m\u001b[0;34m'output: '\u001b[0m\u001b[0;34m+\u001b[0m\u001b[0mtext\u001b[0m\u001b[0;34m)\u001b[0m\u001b[0;34m\u001b[0m\u001b[0;34m\u001b[0m\u001b[0m\n\u001b[0;32m----> 3\u001b[0;31m     \u001b[0mtts\u001b[0m\u001b[0;34m(\u001b[0m\u001b[0mtext\u001b[0m\u001b[0;34m)\u001b[0m\u001b[0;34m\u001b[0m\u001b[0;34m\u001b[0m\u001b[0m\n\u001b[0m",
      "\u001b[0;32m/var/folders/92/d8ykj4ms1j71l5rkxfq43wxc0000gn/T/ipykernel_90706/3648456572.py\u001b[0m in \u001b[0;36mtts\u001b[0;34m(text)\u001b[0m\n\u001b[1;32m      4\u001b[0m     \u001b[0mengine\u001b[0m\u001b[0;34m.\u001b[0m\u001b[0msetProperty\u001b[0m\u001b[0;34m(\u001b[0m\u001b[0;34m'rate'\u001b[0m\u001b[0;34m,\u001b[0m \u001b[0;36m200\u001b[0m\u001b[0;34m)\u001b[0m\u001b[0;34m\u001b[0m\u001b[0;34m\u001b[0m\u001b[0m\n\u001b[1;32m      5\u001b[0m     \u001b[0mengine\u001b[0m\u001b[0;34m.\u001b[0m\u001b[0msay\u001b[0m\u001b[0;34m(\u001b[0m\u001b[0mtext\u001b[0m\u001b[0;34m)\u001b[0m\u001b[0;34m\u001b[0m\u001b[0;34m\u001b[0m\u001b[0m\n\u001b[0;32m----> 6\u001b[0;31m     \u001b[0mengine\u001b[0m\u001b[0;34m.\u001b[0m\u001b[0mrunAndWait\u001b[0m\u001b[0;34m(\u001b[0m\u001b[0;34m)\u001b[0m\u001b[0;34m\u001b[0m\u001b[0;34m\u001b[0m\u001b[0m\n\u001b[0m",
      "\u001b[0;32m~/github/S_Dialog/my-project_env/lib/python3.9/site-packages/pyttsx3/engine.py\u001b[0m in \u001b[0;36mrunAndWait\u001b[0;34m(self)\u001b[0m\n\u001b[1;32m    178\u001b[0m         \u001b[0mself\u001b[0m\u001b[0;34m.\u001b[0m\u001b[0m_inLoop\u001b[0m \u001b[0;34m=\u001b[0m \u001b[0;32mTrue\u001b[0m\u001b[0;34m\u001b[0m\u001b[0;34m\u001b[0m\u001b[0m\n\u001b[1;32m    179\u001b[0m         \u001b[0mself\u001b[0m\u001b[0;34m.\u001b[0m\u001b[0m_driverLoop\u001b[0m \u001b[0;34m=\u001b[0m \u001b[0;32mTrue\u001b[0m\u001b[0;34m\u001b[0m\u001b[0;34m\u001b[0m\u001b[0m\n\u001b[0;32m--> 180\u001b[0;31m         \u001b[0mself\u001b[0m\u001b[0;34m.\u001b[0m\u001b[0mproxy\u001b[0m\u001b[0;34m.\u001b[0m\u001b[0mrunAndWait\u001b[0m\u001b[0;34m(\u001b[0m\u001b[0;34m)\u001b[0m\u001b[0;34m\u001b[0m\u001b[0;34m\u001b[0m\u001b[0m\n\u001b[0m\u001b[1;32m    181\u001b[0m \u001b[0;34m\u001b[0m\u001b[0m\n\u001b[1;32m    182\u001b[0m     \u001b[0;32mdef\u001b[0m \u001b[0mstartLoop\u001b[0m\u001b[0;34m(\u001b[0m\u001b[0mself\u001b[0m\u001b[0;34m,\u001b[0m \u001b[0museDriverLoop\u001b[0m\u001b[0;34m=\u001b[0m\u001b[0;32mTrue\u001b[0m\u001b[0;34m)\u001b[0m\u001b[0;34m:\u001b[0m\u001b[0;34m\u001b[0m\u001b[0;34m\u001b[0m\u001b[0m\n",
      "\u001b[0;32m~/github/S_Dialog/my-project_env/lib/python3.9/site-packages/pyttsx3/driver.py\u001b[0m in \u001b[0;36mrunAndWait\u001b[0;34m(self)\u001b[0m\n\u001b[1;32m    190\u001b[0m         '''\n\u001b[1;32m    191\u001b[0m         \u001b[0mself\u001b[0m\u001b[0;34m.\u001b[0m\u001b[0m_push\u001b[0m\u001b[0;34m(\u001b[0m\u001b[0mself\u001b[0m\u001b[0;34m.\u001b[0m\u001b[0m_engine\u001b[0m\u001b[0;34m.\u001b[0m\u001b[0mendLoop\u001b[0m\u001b[0;34m,\u001b[0m \u001b[0mtuple\u001b[0m\u001b[0;34m(\u001b[0m\u001b[0;34m)\u001b[0m\u001b[0;34m)\u001b[0m\u001b[0;34m\u001b[0m\u001b[0;34m\u001b[0m\u001b[0m\n\u001b[0;32m--> 192\u001b[0;31m         \u001b[0mself\u001b[0m\u001b[0;34m.\u001b[0m\u001b[0m_driver\u001b[0m\u001b[0;34m.\u001b[0m\u001b[0mstartLoop\u001b[0m\u001b[0;34m(\u001b[0m\u001b[0;34m)\u001b[0m\u001b[0;34m\u001b[0m\u001b[0;34m\u001b[0m\u001b[0m\n\u001b[0m\u001b[1;32m    193\u001b[0m \u001b[0;34m\u001b[0m\u001b[0m\n\u001b[1;32m    194\u001b[0m     \u001b[0;32mdef\u001b[0m \u001b[0mstartLoop\u001b[0m\u001b[0;34m(\u001b[0m\u001b[0mself\u001b[0m\u001b[0;34m,\u001b[0m \u001b[0museDriverLoop\u001b[0m\u001b[0;34m)\u001b[0m\u001b[0;34m:\u001b[0m\u001b[0;34m\u001b[0m\u001b[0;34m\u001b[0m\u001b[0m\n",
      "\u001b[0;32m~/github/S_Dialog/my-project_env/lib/python3.9/site-packages/pyttsx3/drivers/nsss.py\u001b[0m in \u001b[0;36mstartLoop\u001b[0;34m(self)\u001b[0m\n\u001b[1;32m     33\u001b[0m         NSTimer.scheduledTimerWithTimeInterval_target_selector_userInfo_repeats_(\n\u001b[1;32m     34\u001b[0m             0.0, self, 'onPumpFirst:', None, False)\n\u001b[0;32m---> 35\u001b[0;31m         \u001b[0mAppHelper\u001b[0m\u001b[0;34m.\u001b[0m\u001b[0mrunConsoleEventLoop\u001b[0m\u001b[0;34m(\u001b[0m\u001b[0;34m)\u001b[0m\u001b[0;34m\u001b[0m\u001b[0;34m\u001b[0m\u001b[0m\n\u001b[0m\u001b[1;32m     36\u001b[0m \u001b[0;34m\u001b[0m\u001b[0m\n\u001b[1;32m     37\u001b[0m     \u001b[0;32mdef\u001b[0m \u001b[0mendLoop\u001b[0m\u001b[0;34m(\u001b[0m\u001b[0mself\u001b[0m\u001b[0;34m)\u001b[0m\u001b[0;34m:\u001b[0m\u001b[0;34m\u001b[0m\u001b[0;34m\u001b[0m\u001b[0m\n",
      "\u001b[0;32m~/github/S_Dialog/my-project_env/lib/python3.9/site-packages/PyObjCTools/AppHelper.py\u001b[0m in \u001b[0;36mrunConsoleEventLoop\u001b[0;34m(argv, installInterrupt, mode, maxTimeout)\u001b[0m\n\u001b[1;32m    261\u001b[0m             \u001b[0;32mif\u001b[0m \u001b[0mnextfire\u001b[0m \u001b[0;32mis\u001b[0m \u001b[0;32mnot\u001b[0m \u001b[0;32mNone\u001b[0m\u001b[0;34m:\u001b[0m\u001b[0;34m\u001b[0m\u001b[0;34m\u001b[0m\u001b[0m\n\u001b[1;32m    262\u001b[0m                 \u001b[0mnextfire\u001b[0m \u001b[0;34m=\u001b[0m \u001b[0msoon\u001b[0m\u001b[0;34m.\u001b[0m\u001b[0mearlierDate_\u001b[0m\u001b[0;34m(\u001b[0m\u001b[0mnextfire\u001b[0m\u001b[0;34m)\u001b[0m\u001b[0;34m\u001b[0m\u001b[0;34m\u001b[0m\u001b[0m\n\u001b[0;32m--> 263\u001b[0;31m             \u001b[0;32mif\u001b[0m \u001b[0;32mnot\u001b[0m \u001b[0mrunLoop\u001b[0m\u001b[0;34m.\u001b[0m\u001b[0mrunMode_beforeDate_\u001b[0m\u001b[0;34m(\u001b[0m\u001b[0mmode\u001b[0m\u001b[0;34m,\u001b[0m \u001b[0mnextfire\u001b[0m\u001b[0;34m)\u001b[0m\u001b[0;34m:\u001b[0m\u001b[0;34m\u001b[0m\u001b[0;34m\u001b[0m\u001b[0m\n\u001b[0m\u001b[1;32m    264\u001b[0m                 \u001b[0mstopper\u001b[0m\u001b[0;34m.\u001b[0m\u001b[0mstop\u001b[0m\u001b[0;34m(\u001b[0m\u001b[0;34m)\u001b[0m\u001b[0;34m\u001b[0m\u001b[0;34m\u001b[0m\u001b[0m\n\u001b[1;32m    265\u001b[0m \u001b[0;34m\u001b[0m\u001b[0m\n",
      "\u001b[0;32m~/github/S_Dialog/my-project_env/lib/python3.9/site-packages/pyttsx3/drivers/nsss.py\u001b[0m in \u001b[0;36mspeechSynthesizer_willSpeakWord_ofString_\u001b[0;34m(self, tts, rng, text)\u001b[0m\n\u001b[1;32m    107\u001b[0m         \u001b[0mself\u001b[0m\u001b[0;34m.\u001b[0m\u001b[0m_proxy\u001b[0m\u001b[0;34m.\u001b[0m\u001b[0msetBusy\u001b[0m\u001b[0;34m(\u001b[0m\u001b[0;32mFalse\u001b[0m\u001b[0;34m)\u001b[0m\u001b[0;34m\u001b[0m\u001b[0;34m\u001b[0m\u001b[0m\n\u001b[1;32m    108\u001b[0m \u001b[0;34m\u001b[0m\u001b[0m\n\u001b[0;32m--> 109\u001b[0;31m     \u001b[0;32mdef\u001b[0m \u001b[0mspeechSynthesizer_willSpeakWord_ofString_\u001b[0m\u001b[0;34m(\u001b[0m\u001b[0mself\u001b[0m\u001b[0;34m,\u001b[0m \u001b[0mtts\u001b[0m\u001b[0;34m,\u001b[0m \u001b[0mrng\u001b[0m\u001b[0;34m,\u001b[0m \u001b[0mtext\u001b[0m\u001b[0;34m)\u001b[0m\u001b[0;34m:\u001b[0m\u001b[0;34m\u001b[0m\u001b[0;34m\u001b[0m\u001b[0m\n\u001b[0m\u001b[1;32m    110\u001b[0m         self._proxy.notify('started-word', location=rng.location,\n\u001b[1;32m    111\u001b[0m                            length=rng.length)\n",
      "\u001b[0;31mKeyboardInterrupt\u001b[0m: "
     ]
    }
   ],
   "source": [
    "elz = init_eliza()\n",
    "emoRec = emorec.EmoRec()\n",
    "dialogmanager(elz)"
   ]
  },
  {
   "cell_type": "code",
   "execution_count": null,
   "id": "fdca9112",
   "metadata": {},
   "outputs": [],
   "source": []
  },
  {
   "cell_type": "code",
   "execution_count": null,
   "id": "fafc4408",
   "metadata": {},
   "outputs": [],
   "source": []
  },
  {
   "cell_type": "code",
   "execution_count": null,
   "id": "0670d807",
   "metadata": {},
   "outputs": [],
   "source": []
  },
  {
   "cell_type": "code",
   "execution_count": null,
   "id": "7aa488c3",
   "metadata": {},
   "outputs": [],
   "source": []
  },
  {
   "cell_type": "code",
   "execution_count": null,
   "id": "f955eff1",
   "metadata": {},
   "outputs": [],
   "source": []
  }
 ],
 "metadata": {
  "interpreter": {
   "hash": "4c0a83c770cf16fd91fc106a55dfaa45dfea28f1fe4b971d1d264322b3792468"
  },
  "kernelspec": {
   "display_name": "Python 3",
   "language": "python",
   "name": "python3"
  },
  "language_info": {
   "codemirror_mode": {
    "name": "ipython",
    "version": 3
   },
   "file_extension": ".py",
   "mimetype": "text/x-python",
   "name": "python",
   "nbconvert_exporter": "python",
   "pygments_lexer": "ipython3",
   "version": "3.8.2"
  }
 },
 "nbformat": 4,
 "nbformat_minor": 5
}
