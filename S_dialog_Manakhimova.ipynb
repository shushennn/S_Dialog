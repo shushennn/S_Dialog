{
 "cells": [
  {
   "cell_type": "markdown",
   "id": "8925fac1",
   "metadata": {},
   "source": [
    "# Seminar Dialogsystem Abgabe\n",
    "von Shushana Manakhimova"
   ]
  },
  {
   "cell_type": "code",
   "execution_count": 1,
   "id": "3a0f3113",
   "metadata": {},
   "outputs": [
    {
     "name": "stdout",
     "output_type": "stream",
     "text": [
      "Requirement already satisfied: gtts in ./venv/lib/python3.8/site-packages (2.2.3)\n",
      "Requirement already satisfied: pygame in ./venv/lib/python3.8/site-packages (2.0.1)\n",
      "Requirement already satisfied: python-vlc in ./venv/lib/python3.8/site-packages (3.0.12118)\n",
      "Requirement already satisfied: click in ./venv/lib/python3.8/site-packages (from gtts) (8.0.1)\n",
      "Requirement already satisfied: requests in ./venv/lib/python3.8/site-packages (from gtts) (2.25.1)\n",
      "Requirement already satisfied: six in ./venv/lib/python3.8/site-packages (from gtts) (1.16.0)\n",
      "Requirement already satisfied: chardet<5,>=3.0.2 in ./venv/lib/python3.8/site-packages (from requests->gtts) (4.0.0)\n",
      "Requirement already satisfied: certifi>=2017.4.17 in ./venv/lib/python3.8/site-packages (from requests->gtts) (2020.12.5)\n",
      "Requirement already satisfied: urllib3<1.27,>=1.21.1 in ./venv/lib/python3.8/site-packages (from requests->gtts) (1.26.4)\n",
      "Requirement already satisfied: idna<3,>=2.5 in ./venv/lib/python3.8/site-packages (from requests->gtts) (2.10)\n",
      "\u001b[33mWARNING: You are using pip version 21.1.2; however, version 21.1.3 is available.\n",
      "You should consider upgrading via the '/Users/shushanamanakhimova/S_Dialog/venv/bin/python3 -m pip install --upgrade pip' command.\u001b[0m\n"
     ]
    }
   ],
   "source": [
    "!pip install -U gtts pygame python-vlc"
   ]
  },
  {
   "cell_type": "code",
   "execution_count": 4,
   "id": "456be352",
   "metadata": {},
   "outputs": [
    {
     "name": "stdout",
     "output_type": "stream",
     "text": [
      "Collecting pip\n",
      "\u001b[?25l  Downloading https://files.pythonhosted.org/packages/cd/82/04e9aaf603fdbaecb4323b9e723f13c92c245f6ab2902195c53987848c78/pip-21.1.2-py3-none-any.whl (1.5MB)\n",
      "\u001b[K     |████████████████████████████████| 1.6MB 3.7MB/s eta 0:00:01\n",
      "\u001b[?25hInstalling collected packages: pip\n",
      "  Found existing installation: pip 19.2.3\n",
      "    Uninstalling pip-19.2.3:\n",
      "      Successfully uninstalled pip-19.2.3\n",
      "Successfully installed pip-21.1.2\n"
     ]
    }
   ],
   "source": [
    "!pip install --upgrade pip"
   ]
  },
  {
   "cell_type": "code",
   "execution_count": 1,
   "id": "d3c3ea7d",
   "metadata": {},
   "outputs": [],
   "source": [
    "from gtts import gTTS"
   ]
  },
  {
   "cell_type": "code",
   "execution_count": 2,
   "id": "e8de3a80",
   "metadata": {},
   "outputs": [],
   "source": [
    "text = 'Das ist jetzt mal was ich so sage, ich finde das Klasse!'\n",
    "tts = gTTS(text, lang='de')"
   ]
  },
  {
   "cell_type": "code",
   "execution_count": 3,
   "id": "455e47d8",
   "metadata": {},
   "outputs": [],
   "source": [
    "audio_file = './hello.mp3'\n",
    "tts.save(audio_file)"
   ]
  },
  {
   "cell_type": "code",
   "execution_count": 4,
   "id": "db80f091",
   "metadata": {},
   "outputs": [
    {
     "name": "stdout",
     "output_type": "stream",
     "text": [
      "pygame 2.0.1 (SDL 2.0.14, Python 3.8.2)\n",
      "Hello from the pygame community. https://www.pygame.org/contribute.html\n"
     ]
    },
    {
     "data": {
      "text/plain": [
       "0"
      ]
     },
     "execution_count": 4,
     "metadata": {},
     "output_type": "execute_result"
    }
   ],
   "source": [
    "from pygame import mixer \n",
    "#wozu braucht man mixer funktion aus pygame, wenn wir schon vlc benutzen?\n",
    "import vlc\n",
    "p = vlc.MediaPlayer(audio_file)\n",
    "p.play()"
   ]
  },
  {
   "cell_type": "markdown",
   "id": "ebcecd87",
   "metadata": {},
   "source": []
  }
 ],
 "metadata": {
  "kernelspec": {
   "display_name": "Python 3",
   "language": "python",
   "name": "python3"
  },
  "language_info": {
   "codemirror_mode": {
    "name": "ipython",
    "version": 3
   },
   "file_extension": ".py",
   "mimetype": "text/x-python",
   "name": "python",
   "nbconvert_exporter": "python",
   "pygments_lexer": "ipython3",
   "version": "3.8.2"
  }
 },
 "nbformat": 4,
 "nbformat_minor": 5
}
