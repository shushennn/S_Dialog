{
 "cells": [
  {
   "cell_type": "code",
   "execution_count": 1,
   "id": "96747b9c",
   "metadata": {},
   "outputs": [],
   "source": [
    "# imports\n",
    "from google.cloud import speech\n",
    "import io\n",
    "import dialog_util as util\n",
    "import requests"
   ]
  },
  {
   "cell_type": "code",
   "execution_count": 2,
   "id": "ae5b3b81",
   "metadata": {},
   "outputs": [],
   "source": [
    "import pickle\n",
    "vaccinations = pickle.load( open( \"/home/felix/data/TU/SS2021/S_dialog/vaccination_data.pkl\", \"rb\" ) )"
   ]
  },
  {
   "cell_type": "code",
   "execution_count": 3,
   "id": "9f88250f",
   "metadata": {},
   "outputs": [],
   "source": [
    "util.init_google()"
   ]
  },
  {
   "cell_type": "code",
   "execution_count": null,
   "id": "9c3c7a82",
   "metadata": {},
   "outputs": [],
   "source": [
    "dialogmanager()"
   ]
  },
  {
   "cell_type": "code",
   "execution_count": 5,
   "id": "c45244cd",
   "metadata": {},
   "outputs": [],
   "source": [
    "def dialogmanager():\n",
    "    util.tts(util.phrases['hello'])    \n",
    "    input_s = util.do_input()\n",
    "    input_s = util.normalize(input_s)\n",
    "    while input_s and input_s != 'fertig':\n",
    "        semantics = util.semantic(input_s)\n",
    "        result = util.data(semantics, vaccinations)\n",
    "        out_string = util.output(semantics, result)\n",
    "        print(f'response-> {out_string}')\n",
    "        util.tts(out_string)\n",
    "        util.tts(util.phrases['continue']) \n",
    "        input_s = util.do_input()"
   ]
  },
  {
   "cell_type": "code",
   "execution_count": null,
   "id": "e0d301dd",
   "metadata": {},
   "outputs": [
    {
     "name": "stdout",
     "output_type": "stream",
     "text": [
      "done\n"
     ]
    }
   ],
   "source": [
    "util.init_google()\n",
    "util.record_file()\n",
    "text = util.transcribe()\n",
    "util.tts(text)"
   ]
  },
  {
   "cell_type": "code",
   "execution_count": null,
   "id": "37d40b92",
   "metadata": {},
   "outputs": [],
   "source": []
  }
 ],
 "metadata": {
  "kernelspec": {
   "display_name": "Python 3",
   "language": "python",
   "name": "python3"
  },
  "language_info": {
   "codemirror_mode": {
    "name": "ipython",
    "version": 3
   },
   "file_extension": ".py",
   "mimetype": "text/x-python",
   "name": "python",
   "nbconvert_exporter": "python",
   "pygments_lexer": "ipython3",
   "version": "3.8.2"
  }
 },
 "nbformat": 4,
 "nbformat_minor": 5
}
