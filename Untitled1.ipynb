{
 "cells": [
  {
   "cell_type": "code",
   "execution_count": 4,
   "id": "01bb6236",
   "metadata": {},
   "outputs": [
    {
     "name": "stdout",
     "output_type": "stream",
     "text": [
      "[[ 0.          0.        ]\n",
      " [ 0.          0.        ]\n",
      " [ 0.          0.        ]\n",
      " ...\n",
      " [ 0.00259663  0.00259663]\n",
      " [-0.00104186 -0.00104186]\n",
      " [-0.0010544  -0.0010544 ]]\n"
     ]
    }
   ],
   "source": [
    "import sounddevice as sd\n",
    "import soundfile as sf \n",
    "sr = 44100\n",
    "duration = 5\n",
    "myrecording = sd.rec(int(duration * sr), samplerate=sr, channels=2)\n",
    "sd.wait()  \n",
    "sf.write(\"New Record.wav\", myrecording, sr)\n",
    "\n",
    "print(myrecording)"
   ]
  },
  {
   "cell_type": "code",
   "execution_count": null,
   "id": "9c1b5453",
   "metadata": {},
   "outputs": [],
   "source": []
  }
 ],
 "metadata": {
  "kernelspec": {
   "display_name": "Python 3",
   "language": "python",
   "name": "python3"
  },
  "language_info": {
   "codemirror_mode": {
    "name": "ipython",
    "version": 3
   },
   "file_extension": ".py",
   "mimetype": "text/x-python",
   "name": "python",
   "nbconvert_exporter": "python",
   "pygments_lexer": "ipython3",
   "version": "3.8.2"
  }
 },
 "nbformat": 4,
 "nbformat_minor": 5
}
