{
 "cells": [
  {
   "cell_type": "markdown",
   "id": "8ca8b86c",
   "metadata": {},
   "source": [
    "### Record an audio to file"
   ]
  },
  {
   "cell_type": "code",
   "execution_count": 1,
   "id": "e078295f",
   "metadata": {},
   "outputs": [
    {
     "name": "stdout",
     "output_type": "stream",
     "text": [
      "Requirement already satisfied: pydub in ./venv/lib/python3.8/site-packages (0.25.1)\n",
      "Note: you may need to restart the kernel to use updated packages.\n"
     ]
    }
   ],
   "source": [
    "pip install pydub"
   ]
  },
  {
   "cell_type": "code",
   "execution_count": 9,
   "id": "92c1b7b5",
   "metadata": {},
   "outputs": [],
   "source": [
    "import pydub\n",
    "import os\n",
    "import sounddevice as sd\n",
    "import soundfile as sf\n",
    "import numpy as np\n",
    "from scipy.io.wavfile import write\n",
    "sr = 16000  # Sample rate\n",
    "seconds = 3  # Duration of recording\n",
    "filename = 'myfile.wav'"
   ]
  },
  {
   "cell_type": "code",
   "execution_count": 10,
   "id": "5b18c785",
   "metadata": {},
   "outputs": [],
   "source": [
    "data = sd.rec(int(seconds * sr), samplerate=sr, channels=1)\n",
    "sd.wait()  # Wait until recording is finished"
   ]
  },
  {
   "cell_type": "code",
   "execution_count": 11,
   "id": "ab3b0b4d",
   "metadata": {},
   "outputs": [
    {
     "data": {
      "text/plain": [
       "(48000, 1)"
      ]
     },
     "execution_count": 11,
     "metadata": {},
     "output_type": "execute_result"
    }
   ],
   "source": [
    "data.shape"
   ]
  },
  {
   "cell_type": "code",
   "execution_count": 16,
   "id": "ff22b9e2",
   "metadata": {},
   "outputs": [
    {
     "name": "stderr",
     "output_type": "stream",
     "text": [
      "<ipython-input-16-b9938c1b9dbd>:2: RuntimeWarning: invalid value encountered in true_divide\n",
      "  y = (np.iinfo(np.int16).max * (data/np.abs(data).max())).astype(np.int16)\n"
     ]
    }
   ],
   "source": [
    "# Convert `data` to 16 bit integers:\n",
    "y = (np.iinfo(np.int16).max * (data/np.abs(data).max())).astype(np.int16) \n",
    "write(filename, sr, y)"
   ]
  },
  {
   "cell_type": "code",
   "execution_count": 17,
   "id": "577c29af",
   "metadata": {},
   "outputs": [],
   "source": [
    "play_file(filename, sr)"
   ]
  },
  {
   "cell_type": "code",
   "execution_count": 14,
   "id": "32ebb4f1",
   "metadata": {},
   "outputs": [],
   "source": [
    "# Playback the file\n",
    "def play_file(filename, sr):\n",
    "    data, fs = sf.read(filename)  \n",
    "    sd.play(data, sr)\n",
    "    status = sd.wait()  # Wait until file is done playing\n",
    "def play_mp3(filename):\n",
    "    p = vlc.MediaPlayer(filename)\n",
    "    p.play()"
   ]
  },
  {
   "cell_type": "code",
   "execution_count": 15,
   "id": "a770764a",
   "metadata": {},
   "outputs": [],
   "source": [
    "from pydub import AudioSegment\n",
    "from pydub.utils import mediainfo\n",
    "def mp3_to_wav(infile, outfile):\n",
    "    sr = mediainfo(infile)['sample_rate']\n",
    "    sound = AudioSegment.from_mp3(infile)\n",
    "    sound.export(outfile, format=\"wav\")\n",
    "    return sr"
   ]
  },
  {
   "cell_type": "markdown",
   "id": "55f2501b",
   "metadata": {},
   "source": [
    "### Get a German transcript from Google ASR"
   ]
  },
  {
   "cell_type": "code",
   "execution_count": null,
   "id": "7f363146",
   "metadata": {},
   "outputs": [],
   "source": [
    "from google.cloud import speech\n",
    "import io"
   ]
  },
  {
   "cell_type": "code",
   "execution_count": null,
   "id": "d1fb980f",
   "metadata": {},
   "outputs": [],
   "source": [
    "credentials='/home/felix/data/research/Google/AffectiveAgents-7874f11e65d6.json'\n",
    "os.environ[\"GOOGLE_APPLICATION_CREDENTIALS\"]=credentials"
   ]
  },
  {
   "cell_type": "code",
   "execution_count": null,
   "id": "596a7fa2",
   "metadata": {},
   "outputs": [],
   "source": [
    "client = speech.SpeechClient()\n",
    "with io.open(filename, \"rb\") as audio_file:\n",
    "    content = audio_file.read()\n",
    "audio = speech.RecognitionAudio(content = content)\n",
    "config = speech.RecognitionConfig(\n",
    "    encoding=speech.RecognitionConfig.AudioEncoding.LINEAR16,\n",
    "    language_code=\"de-DE\",\n",
    ")"
   ]
  },
  {
   "cell_type": "code",
   "execution_count": null,
   "id": "e4a56141",
   "metadata": {},
   "outputs": [],
   "source": [
    "response = client.recognize(config=config, audio=audio)\n",
    "for result in response.results:\n",
    "    for index, alternative in enumerate(result.alternatives):\n",
    "        print(\"Transcript {}: {}\".format(index, alternative.transcript))"
   ]
  },
  {
   "cell_type": "markdown",
   "id": "9208e37f",
   "metadata": {},
   "source": [
    "### Playback synthesized text with Google"
   ]
  },
  {
   "cell_type": "code",
   "execution_count": null,
   "id": "460956de",
   "metadata": {},
   "outputs": [],
   "source": [
    "text = 'In {} sind {} Menschen mit {} geimpft.'.format('Berlin', 123, 'Biontech')"
   ]
  },
  {
   "cell_type": "code",
   "execution_count": null,
   "id": "93cf37eb",
   "metadata": {},
   "outputs": [],
   "source": [
    "from gtts import gTTS\n",
    "tts = gTTS(text, lang='de')\n",
    "audio_file = './out_synth.mp3'\n",
    "tts.save(audio_file)\n",
    "sr = mp3_to_wav(audio_file, 'test.wav')\n",
    "play_file('test.wav', int(sr))"
   ]
  },
  {
   "cell_type": "markdown",
   "id": "4865f5c0",
   "metadata": {},
   "source": [
    "### Playback with pytts (using espeak)"
   ]
  },
  {
   "cell_type": "code",
   "execution_count": 18,
   "id": "b8c748cd",
   "metadata": {},
   "outputs": [
    {
     "ename": "ModuleNotFoundError",
     "evalue": "No module named 'pyttsx3'",
     "output_type": "error",
     "traceback": [
      "\u001b[0;31m---------------------------------------------------------------------------\u001b[0m",
      "\u001b[0;31mModuleNotFoundError\u001b[0m                       Traceback (most recent call last)",
      "\u001b[0;32m<ipython-input-18-b7a1d52a3ba1>\u001b[0m in \u001b[0;36m<module>\u001b[0;34m\u001b[0m\n\u001b[0;32m----> 1\u001b[0;31m \u001b[0;32mimport\u001b[0m \u001b[0mpyttsx3\u001b[0m\u001b[0;34m\u001b[0m\u001b[0;34m\u001b[0m\u001b[0m\n\u001b[0m\u001b[1;32m      2\u001b[0m \u001b[0mengine\u001b[0m \u001b[0;34m=\u001b[0m \u001b[0mpyttsx3\u001b[0m\u001b[0;34m.\u001b[0m\u001b[0minit\u001b[0m\u001b[0;34m(\u001b[0m\u001b[0;34m)\u001b[0m\u001b[0;34m\u001b[0m\u001b[0;34m\u001b[0m\u001b[0m\n\u001b[1;32m      3\u001b[0m \u001b[0mengine\u001b[0m\u001b[0;34m.\u001b[0m\u001b[0msetProperty\u001b[0m\u001b[0;34m(\u001b[0m\u001b[0;34m'voice'\u001b[0m\u001b[0;34m,\u001b[0m \u001b[0;34m'german'\u001b[0m\u001b[0;34m)\u001b[0m\u001b[0;34m\u001b[0m\u001b[0;34m\u001b[0m\u001b[0m\n\u001b[1;32m      4\u001b[0m \u001b[0mengine\u001b[0m\u001b[0;34m.\u001b[0m\u001b[0msetProperty\u001b[0m\u001b[0;34m(\u001b[0m\u001b[0;34m'rate'\u001b[0m\u001b[0;34m,\u001b[0m \u001b[0;36m300\u001b[0m\u001b[0;34m)\u001b[0m\u001b[0;34m\u001b[0m\u001b[0;34m\u001b[0m\u001b[0m\n\u001b[1;32m      5\u001b[0m \u001b[0mengine\u001b[0m\u001b[0;34m.\u001b[0m\u001b[0msay\u001b[0m\u001b[0;34m(\u001b[0m\u001b[0mtext\u001b[0m\u001b[0;34m)\u001b[0m\u001b[0;34m\u001b[0m\u001b[0;34m\u001b[0m\u001b[0m\n",
      "\u001b[0;31mModuleNotFoundError\u001b[0m: No module named 'pyttsx3'"
     ]
    }
   ],
   "source": [
    "import pyttsx3\n",
    "engine = pyttsx3.init()\n",
    "engine.setProperty('voice', 'german')\n",
    "engine.setProperty('rate', 300)\n",
    "engine.say(text)\n",
    "engine.runAndWait()"
   ]
  },
  {
   "cell_type": "code",
   "execution_count": 19,
   "id": "8bf8afec",
   "metadata": {},
   "outputs": [
    {
     "ename": "NameError",
     "evalue": "name 'engine' is not defined",
     "output_type": "error",
     "traceback": [
      "\u001b[0;31m---------------------------------------------------------------------------\u001b[0m",
      "\u001b[0;31mNameError\u001b[0m                                 Traceback (most recent call last)",
      "\u001b[0;32m<ipython-input-19-3a781e1f31f6>\u001b[0m in \u001b[0;36m<module>\u001b[0;34m\u001b[0m\n\u001b[0;32m----> 1\u001b[0;31m \u001b[0mvoices\u001b[0m \u001b[0;34m=\u001b[0m \u001b[0mengine\u001b[0m\u001b[0;34m.\u001b[0m\u001b[0mgetProperty\u001b[0m\u001b[0;34m(\u001b[0m\u001b[0;34m'voices'\u001b[0m\u001b[0;34m)\u001b[0m\u001b[0;34m\u001b[0m\u001b[0;34m\u001b[0m\u001b[0m\n\u001b[0m\u001b[1;32m      2\u001b[0m \u001b[0;32mfor\u001b[0m \u001b[0mv\u001b[0m \u001b[0;32min\u001b[0m \u001b[0mvoices\u001b[0m\u001b[0;34m:\u001b[0m\u001b[0;34m\u001b[0m\u001b[0;34m\u001b[0m\u001b[0m\n\u001b[1;32m      3\u001b[0m     \u001b[0mprint\u001b[0m\u001b[0;34m(\u001b[0m\u001b[0mv\u001b[0m\u001b[0;34m)\u001b[0m\u001b[0;34m\u001b[0m\u001b[0;34m\u001b[0m\u001b[0m\n",
      "\u001b[0;31mNameError\u001b[0m: name 'engine' is not defined"
     ]
    }
   ],
   "source": [
    "voices = engine.getProperty('voices') \n",
    "for v in voices:\n",
    "    print(v)"
   ]
  },
  {
   "cell_type": "markdown",
   "id": "6bf78b95",
   "metadata": {},
   "source": [
    "### Voxpopuli (using mbrola)"
   ]
  },
  {
   "cell_type": "code",
   "execution_count": null,
   "id": "893d6e48",
   "metadata": {},
   "outputs": [],
   "source": [
    "from voxpopuli import Voice\n",
    "voice = Voice(lang=\"de\", pitch=50, speed=200, voice_id=6)\n",
    "voice.say(text)"
   ]
  },
  {
   "cell_type": "code",
   "execution_count": null,
   "id": "3c4ebc6e",
   "metadata": {},
   "outputs": [],
   "source": [
    "! pip list"
   ]
  },
  {
   "cell_type": "code",
   "execution_count": null,
   "id": "37497398",
   "metadata": {},
   "outputs": [],
   "source": []
  }
 ],
 "metadata": {
  "kernelspec": {
   "display_name": "Python 3",
   "language": "python",
   "name": "python3"
  },
  "language_info": {
   "codemirror_mode": {
    "name": "ipython",
    "version": 3
   },
   "file_extension": ".py",
   "mimetype": "text/x-python",
   "name": "python",
   "nbconvert_exporter": "python",
   "pygments_lexer": "ipython3",
   "version": "3.8.2"
  }
 },
 "nbformat": 4,
 "nbformat_minor": 5
}
