{
 "cells": [
  {
   "cell_type": "markdown",
   "id": "3960f7f0",
   "metadata": {},
   "source": [
    "# mein bericht"
   ]
  },
  {
   "cell_type": "markdown",
   "id": "d8a417bf",
   "metadata": {},
   "source": [
    "das ist meine abgabe"
   ]
  },
  {
   "cell_type": "code",
   "execution_count": 1,
   "id": "5ea53a67",
   "metadata": {},
   "outputs": [
    {
     "ename": "ModuleNotFoundError",
     "evalue": "No module named 'dialog_util'",
     "output_type": "error",
     "traceback": [
      "\u001b[0;31m---------------------------------------------------------------------------\u001b[0m",
      "\u001b[0;31mModuleNotFoundError\u001b[0m                       Traceback (most recent call last)",
      "\u001b[0;32m<ipython-input-1-65500f79f0c3>\u001b[0m in \u001b[0;36m<module>\u001b[0;34m\u001b[0m\n\u001b[1;32m      4\u001b[0m \u001b[0;32mimport\u001b[0m \u001b[0mjson\u001b[0m\u001b[0;34m\u001b[0m\u001b[0;34m\u001b[0m\u001b[0m\n\u001b[1;32m      5\u001b[0m \u001b[0;32mfrom\u001b[0m \u001b[0mwendel_util\u001b[0m \u001b[0;32mimport\u001b[0m \u001b[0mfile_update\u001b[0m\u001b[0;34m\u001b[0m\u001b[0;34m\u001b[0m\u001b[0m\n\u001b[0;32m----> 6\u001b[0;31m \u001b[0;32mimport\u001b[0m \u001b[0mdialog_util\u001b[0m \u001b[0;32mas\u001b[0m \u001b[0mutil\u001b[0m\u001b[0;34m\u001b[0m\u001b[0;34m\u001b[0m\u001b[0m\n\u001b[0m",
      "\u001b[0;31mModuleNotFoundError\u001b[0m: No module named 'dialog_util'"
     ]
    }
   ],
   "source": [
    "import requests\n",
    "from eliza import eliza\n",
    "import os\n",
    "import json\n",
    "from wendel_util import file_update\n",
    "import dialog_util as util"
   ]
  },
  {
   "cell_type": "code",
   "execution_count": 2,
   "id": "042d485a",
   "metadata": {},
   "outputs": [
    {
     "name": "stdout",
     "output_type": "stream",
     "text": [
      "Up To Date\n"
     ]
    }
   ],
   "source": [
    "file_update()\n",
    "vaccinations = open('vaccinations.json')\n",
    "vaccinations = json.load(vaccinations)"
   ]
  },
  {
   "cell_type": "code",
   "execution_count": 3,
   "id": "afffd2a6",
   "metadata": {},
   "outputs": [
    {
     "ename": "NameError",
     "evalue": "name 'util' is not defined",
     "output_type": "error",
     "traceback": [
      "\u001b[0;31m---------------------------------------------------------------------------\u001b[0m",
      "\u001b[0;31mNameError\u001b[0m                                 Traceback (most recent call last)",
      "\u001b[0;32m<ipython-input-3-d53402f1720c>\u001b[0m in \u001b[0;36m<module>\u001b[0;34m\u001b[0m\n\u001b[0;32m----> 1\u001b[0;31m \u001b[0mutil\u001b[0m\u001b[0;34m.\u001b[0m\u001b[0minit_google\u001b[0m\u001b[0;34m(\u001b[0m\u001b[0;34m)\u001b[0m\u001b[0;34m\u001b[0m\u001b[0;34m\u001b[0m\u001b[0m\n\u001b[0m",
      "\u001b[0;31mNameError\u001b[0m: name 'util' is not defined"
     ]
    }
   ],
   "source": [
    "util.init_google()"
   ]
  },
  {
   "cell_type": "code",
   "execution_count": 4,
   "id": "182db1bf",
   "metadata": {},
   "outputs": [],
   "source": [
    "def normalize(in_s):\n",
    "    # e.g. remove stopwords, lemmatization, stemming, \n",
    "    return in_s.lower()"
   ]
  },
  {
   "cell_type": "code",
   "execution_count": 5,
   "id": "17c8eca3",
   "metadata": {},
   "outputs": [],
   "source": [
    "def do_input():\n",
    "    return util.speech_input()"
   ]
  },
  {
   "cell_type": "code",
   "execution_count": 6,
   "id": "6de53461",
   "metadata": {},
   "outputs": [],
   "source": [
    "def semantic(input_s):\n",
    "    semantics = {'state':'', 'vaccine':'', 'answer':0}\n",
    "    for key in util.states_d.keys():\n",
    "        if key in input_s:\n",
    "            semantics['state'] = util.states_d[key]\n",
    "            break\n",
    "    for key in util.vaccines_d.keys():\n",
    "        if key in input_s:\n",
    "            semantics['vaccine'] =  util.vaccines_d[key]\n",
    "            break\n",
    "    return semantics"
   ]
  },
  {
   "cell_type": "code",
   "execution_count": 7,
   "id": "9fadd8e9",
   "metadata": {},
   "outputs": [],
   "source": [
    "# expects semantics: semantics[0] == bundesland, semantics[1] == impfstoff \n",
    "def data(semantics):\n",
    "    s = semantics['state']\n",
    "    v = semantics['vaccine']\n",
    "    if s: # state given\n",
    "        if s != 'DE':\n",
    "            if v: # and vaccine given\n",
    "                semantics['answer'] = vaccinations[\"data\"][\"states\"][s]['vaccination'][v]\n",
    "            else: # all vaccines for state\n",
    "                semantics['answer'] = vaccinations[\"data\"][\"states\"][s]['vaccinated']\n",
    "        else:\n",
    "            if v: # and vaccine given\n",
    "                semantics['answer'] = vaccinations[\"data\"]['vaccination'][v]\n",
    "            else: # all vaccines for Germany\n",
    "                semantics['answer'] = vaccinations['data']['vaccinated']\n",
    "    else: # no state\n",
    "        if v: # but vaccine\n",
    "            semantics['answer'] = vaccinations[\"data\"]['vaccination'][v]\n",
    "        else: # nothing given\n",
    "            semantics['answer'] = None\n",
    "    return semantics"
   ]
  },
  {
   "cell_type": "code",
   "execution_count": 8,
   "id": "cd284f20",
   "metadata": {},
   "outputs": [],
   "source": [
    "def output(semantics, inputs):\n",
    "    ret = ''\n",
    "    s = semantics['state']\n",
    "    v = semantics['vaccine']\n",
    "    a = semantics['answer']\n",
    "    if s: # state given\n",
    "        s = util.state_names[s]\n",
    "        if v: # and vaccine given\n",
    "            v = util.vaccine_names[v]\n",
    "            ret = 'Die Impfungen für {} mit {} sind {}'.format(s, v, a)\n",
    "        else: # all vaccines for state\n",
    "            ret = 'Die Impfungen für {} sind {}'.format(s, a)\n",
    "    else: # no state\n",
    "        if v: # but vaccine\n",
    "            v = util.vaccine_names[v]\n",
    "            ret = 'Die Impfungen in Deutschland mit {} sind {}'.format(v, a)\n",
    "        else: # nothing given\n",
    "            ret =  elz.respond(inputs)\n",
    "    return ret"
   ]
  },
  {
   "cell_type": "code",
   "execution_count": 12,
   "id": "3b72c8f0",
   "metadata": {},
   "outputs": [],
   "source": [
    "def init_eliza():\n",
    "    root = r'/home/felix/data/TU/SS2021/S_dialog/'\n",
    "    elz = eliza.Eliza()\n",
    "    elz.load(root+'/eliza/deutsch.txt')\n",
    "    return elz"
   ]
  },
  {
   "cell_type": "code",
   "execution_count": 9,
   "id": "f4d6819e",
   "metadata": {},
   "outputs": [],
   "source": [
    "def output_s(text):\n",
    "    print('output: '+text)\n",
    "    util.tts(text)"
   ]
  },
  {
   "cell_type": "code",
   "execution_count": 10,
   "id": "6e4f7951",
   "metadata": {},
   "outputs": [],
   "source": [
    "def dialogmanager():\n",
    "    output_s(\"Frag was!\")\n",
    "    input_s = do_input()\n",
    "    input_s = normalize(input_s)\n",
    "    while input_s and input_s != 'fertig':\n",
    "        semantics = semantic(input_s)\n",
    "        semantics = data(semantics)\n",
    "        out_string = output(semantics, input_s)\n",
    "        output_s(out_string)\n",
    "        input_s = do_input()\n",
    "        input_s = normalize(input_s)"
   ]
  },
  {
   "cell_type": "code",
   "execution_count": 11,
   "id": "6982c62c",
   "metadata": {
    "scrolled": true
   },
   "outputs": [
    {
     "ename": "NameError",
     "evalue": "name 'init_eliza' is not defined",
     "output_type": "error",
     "traceback": [
      "\u001b[0;31m---------------------------------------------------------------------------\u001b[0m",
      "\u001b[0;31mNameError\u001b[0m                                 Traceback (most recent call last)",
      "\u001b[0;32m<ipython-input-11-6fa341b52a32>\u001b[0m in \u001b[0;36m<module>\u001b[0;34m\u001b[0m\n\u001b[0;32m----> 1\u001b[0;31m \u001b[0melz\u001b[0m \u001b[0;34m=\u001b[0m \u001b[0minit_eliza\u001b[0m\u001b[0;34m(\u001b[0m\u001b[0;34m)\u001b[0m\u001b[0;34m\u001b[0m\u001b[0;34m\u001b[0m\u001b[0m\n\u001b[0m\u001b[1;32m      2\u001b[0m \u001b[0mdialogmanager\u001b[0m\u001b[0;34m(\u001b[0m\u001b[0;34m)\u001b[0m\u001b[0;34m\u001b[0m\u001b[0;34m\u001b[0m\u001b[0m\n",
      "\u001b[0;31mNameError\u001b[0m: name 'init_eliza' is not defined"
     ]
    }
   ],
   "source": [
    "elz = init_eliza()\n",
    "dialogmanager()"
   ]
  },
  {
   "cell_type": "code",
   "execution_count": null,
   "id": "3af7a4da",
   "metadata": {},
   "outputs": [],
   "source": []
  }
 ],
 "metadata": {
  "kernelspec": {
   "display_name": "Python 3",
   "language": "python",
   "name": "python3"
  },
  "language_info": {
   "codemirror_mode": {
    "name": "ipython",
    "version": 3
   },
   "file_extension": ".py",
   "mimetype": "text/x-python",
   "name": "python",
   "nbconvert_exporter": "python",
   "pygments_lexer": "ipython3",
   "version": "3.8.2"
  }
 },
 "nbformat": 4,
 "nbformat_minor": 5
}
