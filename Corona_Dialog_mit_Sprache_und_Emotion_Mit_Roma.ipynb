{
 "cells": [
  {
   "cell_type": "markdown",
   "id": "1a122ec6",
   "metadata": {},
   "source": [
    "# mein bericht"
   ]
  },
  {
   "cell_type": "markdown",
   "id": "3a90c798",
   "metadata": {},
   "source": [
    "das ist meine abgabe"
   ]
  },
  {
   "cell_type": "code",
   "execution_count": 1,
   "id": "8c98faf7",
   "metadata": {},
   "outputs": [],
   "source": [
    "import requests\n",
    "from eliza import eliza\n",
    "import json\n",
    "import sox\n",
    "from wendel_util import file_update\n",
    "import emorec\n",
    "from google.cloud import speech\n",
    "import io\n",
    "import os, sys\n",
    "import sounddevice as sd\n",
    "import soundfile as sf\n",
    "import numpy as np\n",
    "from scipy.io.wavfile import write\n",
    "import pickle\n",
    "import pyttsx3"
   ]
  },
  {
   "cell_type": "code",
   "execution_count": 2,
   "id": "52e52250",
   "metadata": {},
   "outputs": [
    {
     "name": "stdout",
     "output_type": "stream",
     "text": [
      "Up To Date\n"
     ]
    }
   ],
   "source": [
    "file_update()\n",
    "vaccinations = open('vaccinations.json')\n",
    "vaccinations = json.load(vaccinations)"
   ]
  },
  {
   "cell_type": "code",
   "execution_count": 3,
   "id": "dcf32257",
   "metadata": {},
   "outputs": [],
   "source": [
    "sr = 16000  # Sample rate\n",
    "seconds = 3  # Duration of recording\n",
    "filename = 'myfile.wav' #recording of my speech"
   ]
  },
  {
   "cell_type": "code",
   "execution_count": 4,
   "id": "9b3f25de",
   "metadata": {},
   "outputs": [],
   "source": [
    "def record_file():\n",
    "\n",
    "    sr = 44100\n",
    "    duration = 3\n",
    "    data = sd.rec(int(duration * sr), samplerate=sr, channels=1)\n",
    "    sd.wait()  \n",
    "    sf.write(filename, data, sr)\n",
    "    print(data)\n",
    "    \n",
    "    # Convert `data` to 16 bit integers:\n",
    "    y = (np.iinfo(np.int16).max * (data/np.abs(data).max())).astype(np.int16) \n",
    "    \n",
    "    write(filename, sr, y)"
   ]
  },
  {
   "cell_type": "code",
   "execution_count": 5,
   "id": "4d53a591",
   "metadata": {},
   "outputs": [],
   "source": [
    "def init_google():\n",
    "    credentials='/Users/shushanamanakhimova/S_Dialog/true-sprite-320717-fbd9b9414a32.json'\n",
    "    os.environ[\"GOOGLE_APPLICATION_CREDENTIALS\"]=credentials"
   ]
  },
  {
   "cell_type": "code",
   "execution_count": 6,
   "id": "b64c0016",
   "metadata": {},
   "outputs": [],
   "source": [
    "init_google()"
   ]
  },
  {
   "cell_type": "code",
   "execution_count": 7,
   "id": "4a172e02",
   "metadata": {},
   "outputs": [],
   "source": [
    "def normalize(in_s):\n",
    "    # e.g. remove stopwords, lemmatization, stemming, \n",
    "    return in_s.lower()"
   ]
  },
  {
   "cell_type": "code",
   "execution_count": 8,
   "id": "a2564db1",
   "metadata": {},
   "outputs": [],
   "source": [
    "def transcribe(): #transcribing my speech into text\n",
    "    client = speech.SpeechClient()\n",
    "    with io.open(filename, \"rb\") as audio_file:\n",
    "        content = audio_file.read()\n",
    "    audio = speech.RecognitionAudio(content = content)\n",
    "    config = speech.RecognitionConfig(\n",
    "        encoding=speech.RecognitionConfig.AudioEncoding.LINEAR16,\n",
    "        language_code=\"de-DE\",\n",
    "    )\n",
    "    response = client.recognize(config=config, audio=audio)\n",
    "    for result in response.results:\n",
    "        for index, alternative in enumerate(result.alternatives):\n",
    "            print(\"Transcript {}: {}\".format(index, alternative.transcript))\n",
    "            return alternative.transcript"
   ]
  },
  {
   "cell_type": "code",
   "execution_count": 9,
   "id": "1442263c",
   "metadata": {},
   "outputs": [],
   "source": [
    "def speech_input():\n",
    "    record_file()\n",
    "    text = transcribe()\n",
    "    return text"
   ]
  },
  {
   "cell_type": "code",
   "execution_count": 10,
   "id": "a053ee9f",
   "metadata": {},
   "outputs": [],
   "source": [
    " def do_input():\n",
    "    return speech_input()"
   ]
  },
  {
   "cell_type": "code",
   "execution_count": 11,
   "id": "f537af86",
   "metadata": {},
   "outputs": [],
   "source": [
    "phrases = {'hello':'Willkommen bei der Corona Impfauskunft. Fragen Sie!', \n",
    "    'continue':'Weiter!', \n",
    "    'goodbye':'Vielen Dank für Ihren Besuch!', \n",
    "    'done':'fertig', \n",
    "    'done':'tschüss'}\n",
    "\n",
    "\n",
    "\n",
    "\n",
    "states_d = {'schleswig':'SH', 'hamburg':'HH', 'berlin':'BE', 'bayern':'BY', \n",
    "            'niedersachsen': 'NI', 'bremen': 'HB', \n",
    "            'nordrhein':'NW', 'hessen':'HE', 'rheinland':'RP', 'baden':'BW', \n",
    "            'saarland': 'SL', 'brandenburg':'BB', 'mecklenburg':'MV', 'sachsen':'SN',\n",
    "            'anhalt':'ST', 'thüringen':'TH', 'deutschland':'DE', 'hier':'DE'}\n",
    "state_names = {'SH':'Schleswig-Hostein', 'HH':'Hamburg', 'BE':'Berlin', 'BY':'Bayern', \n",
    "            'NI':'Niedersachsen', 'HB':'Bremen', \n",
    "            'NW': 'Nordrhein Westphalen', 'HE':'Hessen', 'RP':'Rheinland Pfalz', 'BW':'Baden Würthenberg', \n",
    "            'SL':'Saarland', 'BB':'Brandenburg', 'MV':'Mecklenburg Vorpommern', \n",
    "            'SN': 'Sachsen', 'ST':'Sachsen-Anhalt', 'TH':'Thüringen', 'DE':'Deutschland'}\n",
    "vaccines_d = {'biontech':'biontech', 'biontec':'biontech', \n",
    "              'moderna':'moderna', \n",
    "              'janssen':'janssen', 'jansen':'janssen',\n",
    "              'delta':'delta',\n",
    "              'astraZeneca':'astraZeneca', 'astra':'astraZeneca', 'zeneca':'astraZeneca'}\n",
    "vaccine_names = {'biontech':'Biontech', 'moderna':'Moderna', 'janssen':'Janssen', 'delta':'Delta',\n",
    "              'astraZeneca':'Astra Zeneca'}"
   ]
  },
  {
   "cell_type": "code",
   "execution_count": 12,
   "id": "436c96ab",
   "metadata": {},
   "outputs": [],
   "source": [
    "def semantic(input_s):\n",
    "    semantics = {'state':'', 'vaccine':'', 'answer':0}\n",
    "    for key in states_d.keys():\n",
    "        if key in input_s:\n",
    "            semantics['state'] = states_d[key]\n",
    "            break\n",
    "    for key in vaccines_d.keys():\n",
    "        if key in input_s:\n",
    "            semantics['vaccine'] = vaccines_d[key]\n",
    "            break\n",
    "    return semantics"
   ]
  },
  {
   "cell_type": "code",
   "execution_count": 13,
   "id": "7d584df0",
   "metadata": {},
   "outputs": [],
   "source": [
    "# expects semantics: semantics[0] == bundesland, semantics[1] == impfstoff \n",
    "def data(semantics):\n",
    "    s = semantics['state']\n",
    "    v = semantics['vaccine']\n",
    "    if s: # state given\n",
    "        if s != 'DE':\n",
    "            if v: # and vaccine given\n",
    "                semantics['answer'] = vaccinations[\"data\"][\"states\"][s]['vaccination'][v]\n",
    "            else: # all vaccines for state\n",
    "                semantics['answer'] = vaccinations[\"data\"][\"states\"][s]['vaccinated']\n",
    "        else:\n",
    "            if v: # and vaccine given\n",
    "                semantics['answer'] = vaccinations[\"data\"]['vaccination'][v]\n",
    "            else: # all vaccines for Germany\n",
    "                semantics['answer'] = vaccinations['data']['vaccinated']\n",
    "    else: # no state\n",
    "        if v: # but vaccine\n",
    "            semantics['answer'] = vaccinations[\"data\"]['vaccination'][v]\n",
    "        else: # nothing given\n",
    "            semantics['answer'] = None\n",
    "    return semantics"
   ]
  },
  {
   "cell_type": "code",
   "execution_count": null,
   "id": "3f54db8f",
   "metadata": {},
   "outputs": [],
   "source": []
  },
  {
   "cell_type": "code",
   "execution_count": 14,
   "id": "171a87fa",
   "metadata": {},
   "outputs": [],
   "source": [
    "def init_eliza():\n",
    "    root = r'/Users/shushanamanakhimova/S_Dialog/'\n",
    "    elz = eliza.Eliza()\n",
    "    elz.load(root+'eliza/deutsch.txt')\n",
    "    return elz"
   ]
  },
  {
   "cell_type": "code",
   "execution_count": 15,
   "id": "12206582",
   "metadata": {},
   "outputs": [],
   "source": [
    "def output(semantics, inputs):\n",
    "    ret = ''\n",
    "    s = semantics['state']\n",
    "    v = semantics['vaccine']\n",
    "    a = semantics['answer']\n",
    "    if s: # state given\n",
    "        s = util.state_names[s]\n",
    "        if v: # and vaccine given\n",
    "            v = util.vaccine_names[v]\n",
    "            ret = 'Die Impfungen für {} mit {} sind {}'.format(s, v, a)\n",
    "        else: # all vaccines for state\n",
    "            ret = 'Die Impfungen für {} sind {}'.format(s, a)\n",
    "    else: # no state\n",
    "        if v: # but vaccine\n",
    "            v = util.vaccine_names[v]\n",
    "            ret = 'Die Impfungen in Deutschland mit {} sind {}'.format(v, a)\n",
    "        else: # nothing given\n",
    "            ret =  elz.respond(inputs)\n",
    "    return ret"
   ]
  },
  {
   "cell_type": "code",
   "execution_count": 16,
   "id": "21fbd025",
   "metadata": {},
   "outputs": [],
   "source": [
    "def tts(text):\n",
    "    engine = pyttsx3.init()\n",
    "    engine.setProperty('voice', 'german')\n",
    "    engine.setProperty('rate', 200)\n",
    "    engine.say(text)\n",
    "    engine.runAndWait()"
   ]
  },
  {
   "cell_type": "code",
   "execution_count": 17,
   "id": "bb857556",
   "metadata": {},
   "outputs": [],
   "source": [
    "def output_s(text):\n",
    "    print('output: '+text)\n",
    "    tts(text)"
   ]
  },
  {
   "cell_type": "code",
   "execution_count": 18,
   "id": "593a069b",
   "metadata": {},
   "outputs": [],
   "source": [
    "emo_dict = {'happiness':'freundlich', 'neutral': 'wie immer', 'anger': 'ärgerlich', 'sadness': 'traurig', \n",
    "            'fear': 'ängstlich', 'boredom':'gelangweilt', 'disgust':'angeekelt'}"
   ]
  },
  {
   "cell_type": "code",
   "execution_count": 19,
   "id": "3aeb581d",
   "metadata": {},
   "outputs": [],
   "source": [
    "elz = init_eliza()\n",
    "emoRec = emorec.EmoRec()"
   ]
  },
  {
   "cell_type": "code",
   "execution_count": 20,
   "id": "ed10fbee",
   "metadata": {},
   "outputs": [],
   "source": [
    "def dialogmanager(elz):\n",
    "    output_s(phrases['hello'])\n",
    "    input_s = do_input()\n",
    "    input_s = normalize(input_s)\n",
    "    while input_s and input_s != phrases['done']:\n",
    "        emotion = emoRec.classify(filename)[0]\n",
    "        emotion_g = emo_dict[emotion]\n",
    "        output_s('ich merke du bist '+emotion_g)\n",
    "        semantics = semantic(input_s)\n",
    "        semantics = data(semantics)\n",
    "        out_string = output(semantics, input_s)\n",
    "        output_s(out_string)\n",
    "        input_s = do_input()\n",
    "\n",
    "        if (input_s):\n",
    "            input_s = normalize(input_s)\n",
    "        else:\n",
    "            \n",
    "            output_s(phrases['goodbye'])\n",
    "    output_s(phrases['goodbye'])"
   ]
  },
  {
   "cell_type": "code",
   "execution_count": 21,
   "id": "974195ff",
   "metadata": {
    "scrolled": true
   },
   "outputs": [
    {
     "name": "stdout",
     "output_type": "stream",
     "text": [
      "output: Willkommen bei der Corona Impfauskunft. Fragen Sie!\n",
      "[[ 0.        ]\n",
      " [ 0.        ]\n",
      " [ 0.        ]\n",
      " ...\n",
      " [-0.00014671]\n",
      " [-0.00019407]\n",
      " [-0.0002055 ]]\n"
     ]
    },
    {
     "ename": "AttributeError",
     "evalue": "'NoneType' object has no attribute 'lower'",
     "output_type": "error",
     "traceback": [
      "\u001b[0;31m---------------------------------------------------------------------------\u001b[0m",
      "\u001b[0;31mAttributeError\u001b[0m                            Traceback (most recent call last)",
      "\u001b[0;32m<ipython-input-21-1c30fcb7023e>\u001b[0m in \u001b[0;36m<module>\u001b[0;34m\u001b[0m\n\u001b[0;32m----> 1\u001b[0;31m \u001b[0mdialogmanager\u001b[0m\u001b[0;34m(\u001b[0m\u001b[0melz\u001b[0m\u001b[0;34m)\u001b[0m\u001b[0;34m\u001b[0m\u001b[0;34m\u001b[0m\u001b[0m\n\u001b[0m",
      "\u001b[0;32m<ipython-input-20-e5120125e510>\u001b[0m in \u001b[0;36mdialogmanager\u001b[0;34m(elz)\u001b[0m\n\u001b[1;32m      2\u001b[0m     \u001b[0moutput_s\u001b[0m\u001b[0;34m(\u001b[0m\u001b[0mphrases\u001b[0m\u001b[0;34m[\u001b[0m\u001b[0;34m'hello'\u001b[0m\u001b[0;34m]\u001b[0m\u001b[0;34m)\u001b[0m\u001b[0;34m\u001b[0m\u001b[0;34m\u001b[0m\u001b[0m\n\u001b[1;32m      3\u001b[0m     \u001b[0minput_s\u001b[0m \u001b[0;34m=\u001b[0m \u001b[0mdo_input\u001b[0m\u001b[0;34m(\u001b[0m\u001b[0;34m)\u001b[0m\u001b[0;34m\u001b[0m\u001b[0;34m\u001b[0m\u001b[0m\n\u001b[0;32m----> 4\u001b[0;31m     \u001b[0minput_s\u001b[0m \u001b[0;34m=\u001b[0m \u001b[0mnormalize\u001b[0m\u001b[0;34m(\u001b[0m\u001b[0minput_s\u001b[0m\u001b[0;34m)\u001b[0m\u001b[0;34m\u001b[0m\u001b[0;34m\u001b[0m\u001b[0m\n\u001b[0m\u001b[1;32m      5\u001b[0m     \u001b[0;32mwhile\u001b[0m \u001b[0minput_s\u001b[0m \u001b[0;32mand\u001b[0m \u001b[0minput_s\u001b[0m \u001b[0;34m!=\u001b[0m \u001b[0mphrases\u001b[0m\u001b[0;34m[\u001b[0m\u001b[0;34m'done'\u001b[0m\u001b[0;34m]\u001b[0m\u001b[0;34m:\u001b[0m\u001b[0;34m\u001b[0m\u001b[0;34m\u001b[0m\u001b[0m\n\u001b[1;32m      6\u001b[0m         \u001b[0memotion\u001b[0m \u001b[0;34m=\u001b[0m \u001b[0memeoRec\u001b[0m\u001b[0;34m.\u001b[0m\u001b[0mclassify\u001b[0m\u001b[0;34m(\u001b[0m\u001b[0mfilename\u001b[0m\u001b[0;34m)\u001b[0m\u001b[0;34m[\u001b[0m\u001b[0;36m0\u001b[0m\u001b[0;34m]\u001b[0m\u001b[0;34m\u001b[0m\u001b[0;34m\u001b[0m\u001b[0m\n",
      "\u001b[0;32m<ipython-input-7-02825e91f731>\u001b[0m in \u001b[0;36mnormalize\u001b[0;34m(in_s)\u001b[0m\n\u001b[1;32m      1\u001b[0m \u001b[0;32mdef\u001b[0m \u001b[0mnormalize\u001b[0m\u001b[0;34m(\u001b[0m\u001b[0min_s\u001b[0m\u001b[0;34m)\u001b[0m\u001b[0;34m:\u001b[0m\u001b[0;34m\u001b[0m\u001b[0;34m\u001b[0m\u001b[0m\n\u001b[1;32m      2\u001b[0m     \u001b[0;31m# e.g. remove stopwords, lemmatization, stemming,\u001b[0m\u001b[0;34m\u001b[0m\u001b[0;34m\u001b[0m\u001b[0;34m\u001b[0m\u001b[0m\n\u001b[0;32m----> 3\u001b[0;31m     \u001b[0;32mreturn\u001b[0m \u001b[0min_s\u001b[0m\u001b[0;34m.\u001b[0m\u001b[0mlower\u001b[0m\u001b[0;34m(\u001b[0m\u001b[0;34m)\u001b[0m\u001b[0;34m\u001b[0m\u001b[0;34m\u001b[0m\u001b[0m\n\u001b[0m",
      "\u001b[0;31mAttributeError\u001b[0m: 'NoneType' object has no attribute 'lower'"
     ]
    }
   ],
   "source": [
    "dialogmanager(elz)"
   ]
  },
  {
   "cell_type": "code",
   "execution_count": null,
   "id": "9c0a16cf",
   "metadata": {},
   "outputs": [],
   "source": [
    "!pip list"
   ]
  },
  {
   "cell_type": "code",
   "execution_count": null,
   "id": "ca39ec1e",
   "metadata": {},
   "outputs": [],
   "source": []
  }
 ],
 "metadata": {
  "interpreter": {
   "hash": "4c0a83c770cf16fd91fc106a55dfaa45dfea28f1fe4b971d1d264322b3792468"
  },
  "kernelspec": {
   "display_name": "Python 3",
   "language": "python",
   "name": "python3"
  },
  "language_info": {
   "codemirror_mode": {
    "name": "ipython",
    "version": 3
   },
   "file_extension": ".py",
   "mimetype": "text/x-python",
   "name": "python",
   "nbconvert_exporter": "python",
   "pygments_lexer": "ipython3",
   "version": "3.8.2"
  }
 },
 "nbformat": 4,
 "nbformat_minor": 5
}
