{
 "cells": [
  {
   "cell_type": "code",
   "execution_count": 1,
   "id": "8aa4e05b",
   "metadata": {},
   "outputs": [],
   "source": [
    "import requests\n",
    "def dialogmanager():\n",
    "    input_s = do_input()\n",
    "    while input_s != 'fertig':\n",
    "        semantics = semantic(input_s)\n",
    "        result = data(semantics)\n",
    "        out_string = output(result)\n",
    "        print(out_string)\n",
    "        input_s = do_input()"
   ]
  },
  {
   "cell_type": "code",
   "execution_count": 2,
   "id": "a8634010",
   "metadata": {},
   "outputs": [],
   "source": [
    "def do_input():\n",
    "    return input('> ')"
   ]
  },
  {
   "cell_type": "code",
   "execution_count": 3,
   "id": "b8d3ed32",
   "metadata": {},
   "outputs": [],
   "source": [
    "def output(results):\n",
    "    return 'Die Corona Zahlen sind {}'.format(results)"
   ]
  },
  {
   "cell_type": "code",
   "execution_count": 4,
   "id": "ceda45b6",
   "metadata": {},
   "outputs": [],
   "source": [
    "def semantic(input_s):\n",
    "    semantics = []\n",
    "    if input_s[0] == 'a':\n",
    "        semantics.append('BE')\n",
    "    return semantics"
   ]
  },
  {
   "cell_type": "code",
   "execution_count": 5,
   "id": "55624f8b",
   "metadata": {},
   "outputs": [],
   "source": [
    "# expects semantics: semantics[0] == bundesland, semantics[1] == impfstoff \n",
    "vaccinations = requests.get('https://api.corona-zahlen.org/vaccinations')\n",
    "def data(semantics):\n",
    "    if len(semantics) == 0 or semantics[0] == None:\n",
    "        vacc_number = vaccinations.json()['data']['vaccinated']\n",
    "    else:\n",
    "        if len(semantics) == 1 or semantics[1] == None:\n",
    "            vacc_number = vaccinations.json()[\"data\"][\"states\"][semantics[0]]['vaccinated']\n",
    "        else:\n",
    "            vacc_number = vaccinations.json()[\"data\"][\"states\"][land]['vaccination'][semantics[1]]\n",
    "    return vacc_number "
   ]
  },
  {
   "cell_type": "code",
   "execution_count": null,
   "id": "6dca862b",
   "metadata": {},
   "outputs": [
    {
     "name": "stdout",
     "output_type": "stream",
     "text": [
      "> hallo\n",
      "Die Corona Zahlen sind 42540863\n",
      "> wie geht's\n",
      "Die Corona Zahlen sind 42540863\n",
      "> astrazeneca\n",
      "Die Corona Zahlen sind 1898578\n",
      "> biontech\n",
      "Die Corona Zahlen sind 42540863\n",
      "> moderna\n",
      "Die Corona Zahlen sind 42540863\n",
      "> berlin\n",
      "Die Corona Zahlen sind 42540863\n",
      "> hamburg\n",
      "Die Corona Zahlen sind 42540863\n"
     ]
    }
   ],
   "source": [
    "dialogmanager()"
   ]
  },
  {
   "cell_type": "code",
   "execution_count": null,
   "id": "6ad739d9",
   "metadata": {},
   "outputs": [],
   "source": []
  }
 ],
 "metadata": {
  "kernelspec": {
   "display_name": "Python 3",
   "language": "python",
   "name": "python3"
  },
  "language_info": {
   "codemirror_mode": {
    "name": "ipython",
    "version": 3
   },
   "file_extension": ".py",
   "mimetype": "text/x-python",
   "name": "python",
   "nbconvert_exporter": "python",
   "pygments_lexer": "ipython3",
   "version": "3.8.2"
  }
 },
 "nbformat": 4,
 "nbformat_minor": 5
}
