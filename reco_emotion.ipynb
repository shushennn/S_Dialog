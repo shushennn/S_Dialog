{
 "cells": [
  {
   "cell_type": "code",
   "execution_count": 1,
   "id": "f7b1e23c",
   "metadata": {},
   "outputs": [],
   "source": [
    "import emorec"
   ]
  },
  {
   "cell_type": "code",
   "execution_count": 2,
   "id": "4ebe98ff",
   "metadata": {},
   "outputs": [],
   "source": [
    "import os\n",
    "import sounddevice as sd\n",
    "import soundfile as sf\n",
    "from scipy.io.wavfile import write\n",
    "sr = 16000  # Sample rate\n",
    "seconds = 3  # Duration of recording\n",
    "filename = 'myfile1.wav'"
   ]
  },
  {
   "cell_type": "code",
   "execution_count": 3,
   "id": "8e1669ec",
   "metadata": {},
   "outputs": [],
   "source": [
    "# Playback the file\n",
    "def play_file(filename, sr):\n",
    "    data, fs = sf.read(filename)  \n",
    "    sd.play(data, sr)\n",
    "    status = sd.wait()  # Wait until file is done playing"
   ]
  },
  {
   "cell_type": "code",
   "execution_count": 4,
   "id": "e539687f",
   "metadata": {},
   "outputs": [],
   "source": [
    "def record(seconds, filename):\n",
    "    data = sd.rec(int(seconds * sr), samplerate=sr, channels=1)\n",
    "    sd.wait()  \n",
    "    write(filename, sr, data)"
   ]
  },
  {
   "cell_type": "code",
   "execution_count": 5,
   "id": "8681d341",
   "metadata": {},
   "outputs": [],
   "source": [
    "play_file(filename, sr)"
   ]
  },
  {
   "cell_type": "code",
   "execution_count": 6,
   "id": "af49c100",
   "metadata": {},
   "outputs": [],
   "source": [
    "emoRec = emorec.EmoRec()"
   ]
  },
  {
   "cell_type": "code",
   "execution_count": 7,
   "id": "ab857213",
   "metadata": {},
   "outputs": [
    {
     "data": {
      "text/plain": [
       "'disgust'"
      ]
     },
     "execution_count": 7,
     "metadata": {},
     "output_type": "execute_result"
    }
   ],
   "source": [
    "record(3, filename)\n",
    "emoRec.classify(filename)[0]"
   ]
  },
  {
   "cell_type": "code",
   "execution_count": 8,
   "id": "f3ee572a",
   "metadata": {},
   "outputs": [
    {
     "data": {
      "text/plain": [
       "'disgust'"
      ]
     },
     "execution_count": 8,
     "metadata": {},
     "output_type": "execute_result"
    }
   ],
   "source": [
    "emoRec.classify_from_micro(3)"
   ]
  },
  {
   "cell_type": "code",
   "execution_count": 9,
   "id": "2b140b3a",
   "metadata": {},
   "outputs": [
    {
     "name": "stdout",
     "output_type": "stream",
     "text": [
      "emodb thinks your emotion is disgust\n"
     ]
    }
   ],
   "source": [
    "result = emoRec.classify_from_micro(3)\n",
    "print(f'emodb thinks your emotion is {result}')"
   ]
  },
  {
   "cell_type": "code",
   "execution_count": null,
   "id": "afa3ae94",
   "metadata": {},
   "outputs": [],
   "source": []
  }
 ],
 "metadata": {
  "kernelspec": {
   "display_name": "Python 3",
   "language": "python",
   "name": "python3"
  },
  "language_info": {
   "codemirror_mode": {
    "name": "ipython",
    "version": 3
   },
   "file_extension": ".py",
   "mimetype": "text/x-python",
   "name": "python",
   "nbconvert_exporter": "python",
   "pygments_lexer": "ipython3",
   "version": "3.8.2"
  }
 },
 "nbformat": 4,
 "nbformat_minor": 5
}
