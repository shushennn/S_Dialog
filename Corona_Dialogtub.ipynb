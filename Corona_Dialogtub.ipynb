{
 "cells": [
  {
   "cell_type": "markdown",
   "id": "3960f7f0",
   "metadata": {},
   "source": [
    "# mein bericht"
   ]
  },
  {
   "cell_type": "markdown",
   "id": "95d63990",
   "metadata": {},
   "source": [
    "das ist meine abgabe"
   ]
  },
  {
   "cell_type": "code",
   "execution_count": 1,
   "id": "1f092326",
   "metadata": {},
   "outputs": [
    {
     "ename": "NameError",
     "evalue": "name 'vaccinations' is not defined",
     "output_type": "error",
     "traceback": [
      "\u001b[0;31m---------------------------------------------------------------------------\u001b[0m",
      "\u001b[0;31mNameError\u001b[0m                                 Traceback (most recent call last)",
      "\u001b[0;32m<ipython-input-1-92b43676dcb0>\u001b[0m in \u001b[0;36m<module>\u001b[0;34m\u001b[0m\n\u001b[0;32m----> 1\u001b[0;31m \u001b[0mvaccinations\u001b[0m\u001b[0;34m.\u001b[0m\u001b[0mjson\u001b[0m\u001b[0;34m(\u001b[0m\u001b[0;34m)\u001b[0m\u001b[0;34m\u001b[0m\u001b[0;34m\u001b[0m\u001b[0m\n\u001b[0m",
      "\u001b[0;31mNameError\u001b[0m: name 'vaccinations' is not defined"
     ]
    }
   ],
   "source": [
    "vaccinations.json()"
   ]
  },
  {
   "cell_type": "code",
   "execution_count": 2,
   "id": "8c573829",
   "metadata": {},
   "outputs": [
    {
     "ename": "FileNotFoundError",
     "evalue": "[Errno 2] No such file or directory: 'vaccination_data.pkl'",
     "output_type": "error",
     "traceback": [
      "\u001b[0;31m---------------------------------------------------------------------------\u001b[0m",
      "\u001b[0;31mFileNotFoundError\u001b[0m                         Traceback (most recent call last)",
      "\u001b[0;32m<ipython-input-2-a95e5ea320cc>\u001b[0m in \u001b[0;36m<module>\u001b[0;34m\u001b[0m\n\u001b[1;32m      1\u001b[0m \u001b[0;32mimport\u001b[0m \u001b[0mpickle\u001b[0m\u001b[0;34m\u001b[0m\u001b[0;34m\u001b[0m\u001b[0m\n\u001b[0;32m----> 2\u001b[0;31m \u001b[0mvaccinations\u001b[0m \u001b[0;34m=\u001b[0m \u001b[0mpickle\u001b[0m\u001b[0;34m.\u001b[0m\u001b[0mload\u001b[0m\u001b[0;34m(\u001b[0m \u001b[0mopen\u001b[0m\u001b[0;34m(\u001b[0m \u001b[0;34m\"vaccination_data.pkl\"\u001b[0m\u001b[0;34m,\u001b[0m \u001b[0;34m\"rb\"\u001b[0m \u001b[0;34m)\u001b[0m \u001b[0;34m)\u001b[0m\u001b[0;34m\u001b[0m\u001b[0;34m\u001b[0m\u001b[0m\n\u001b[0m",
      "\u001b[0;31mFileNotFoundError\u001b[0m: [Errno 2] No such file or directory: 'vaccination_data.pkl'"
     ]
    }
   ],
   "source": [
    "import pickle\n",
    "vaccinations = pickle.load( open( \"vaccination_data.pkl\", \"rb\" ) )"
   ]
  },
  {
   "cell_type": "code",
   "execution_count": 3,
   "id": "cd284f20",
   "metadata": {},
   "outputs": [],
   "source": [
    "states_d = {'schleswig':'SH', 'hamburg':'HH', 'berlin':'BE', 'bayern':'BY', \n",
    "            'niedersachsen': 'NI', 'bremen': 'HB', \n",
    "            'nordrhein':'NW', 'hessen':'HE', 'rheinland':'RP', 'baden':'BW', \n",
    "            'saarland': 'SL', 'brandenburg':'BB', 'mecklenburg':'MV', 'sachsen':'SN',\n",
    "            'anhalt':'ST', 'thüringen':'TH', 'deutschland':'DE', 'hier':'DE'}\n",
    "state_names = {'SH':'Schleswig-Hostein', 'HH':'Hamburg', 'BE':'Berlin', 'BY':'Bayern', \n",
    "            'NI':'Niedersachsen', 'HB':'Bremen', \n",
    "            'NW': 'Nordrhein Westphalen', 'HE':'Hessen', 'RP':'Rheinland Pfalz', 'BW':'Baden Würthenberg', \n",
    "            'SL':'Saarland', 'BB':'Brandenburg', 'MV':'Mecklenburg Vorpommern', \n",
    "            'SN': 'Sachsen', 'ST':'Sachsen-Anhalt', 'TH':'Thüringen', 'DE':'Deutschland'}\n",
    "corona_d = {'fälle':'cases', 'tote':'deaths'}\n",
    "vaccines_d = {'biontech':'biontech', 'biontec':'biontech', \n",
    "              'moderna':'moderna', \n",
    "              'janssen':'janssen', 'jansen':'janssen',\n",
    "              'delta':'delta',\n",
    "              'astraZeneca':'astraZeneca', 'astra':'astraZeneca', 'zeneca':'astraZeneca'}\n",
    "vaccine_names = {'biontech':'Biontech', 'moderna':'Moderna', 'janssen':'Janssen', 'delta':'Delta',\n",
    "              'astraZeneca':'Astra Zeneca'}\n",
    "import requests\n",
    "def dialogmanager():\n",
    "    input_s = do_input()\n",
    "    input_s = normalize(input_s)\n",
    "    while input_s and input_s != 'fertig':\n",
    "        semantics = semantic(input_s)\n",
    "        result = data(semantics)\n",
    "        out_string = output(semantics, result)\n",
    "        print(out_string)\n",
    "        input_s = do_input()\n",
    "\n",
    "def normalize(in_s):\n",
    "    return in_s.lower()\n",
    "\n",
    "def do_input():\n",
    "    return input('> ')\n",
    "\n",
    "def semantic(input_s):\n",
    "    semantics = {'state':'', 'vaccine':''}\n",
    "    for key in states_d.keys():\n",
    "        if key in input_s:\n",
    "            semantics['state'] = states_d[key]\n",
    "    for key in  vaccines_d.keys():\n",
    "        if key in input_s:\n",
    "            semantics['vaccine'] =  vaccines_d[key]\n",
    "    return semantics\n",
    "\n",
    "# expects semantics: semantics[0] == bundesland, semantics[1] == impfstoff \n",
    "def data(semantics):\n",
    "    s = semantics['state']\n",
    "    v = semantics['vaccine']\n",
    "    if s: # state given\n",
    "        if s != 'DE':\n",
    "            if v: # and vaccine given\n",
    "                vacc_number = vaccinations[\"data\"][\"states\"][s]['vaccination'][v]\n",
    "            else: # all vaccines for state\n",
    "                vacc_number = vaccinations[\"data\"][\"states\"][s]['vaccinated']\n",
    "        else:\n",
    "            if v: # and vaccine given\n",
    "                vacc_number = vaccinations[\"data\"]['vaccination'][v]\n",
    "            else: # all vaccines for Germany\n",
    "                vacc_number = vaccinations['data']['vaccinated']\n",
    "    else: # no state\n",
    "        if v: # but vaccine\n",
    "            vacc_number = vaccinations[\"data\"]['vaccination'][v]\n",
    "        else: # nothing given\n",
    "            vacc_number = None\n",
    "    return vacc_number\n",
    "\n",
    "def output(semantics, results):\n",
    "    ret = ''\n",
    "    s = semantics['state']\n",
    "    v = semantics['vaccine']\n",
    "    if s: # state given\n",
    "        s = state_names[semantics['state']]\n",
    "        if v: # and vaccine given\n",
    "            v = vaccine_names[semantics['vaccine']]\n",
    "            ret = 'Die Impfungen für {} mit {} sind {}'.format(s, v, results)\n",
    "        else: # all vaccines for state\n",
    "            ret = 'Die Impfungen für {} sind {}'.format(s, results)\n",
    "    else: # no state\n",
    "        if v: # but vaccine\n",
    "            v = vaccine_names[semantics['vaccine']]\n",
    "            ret = 'Die Impfungen in Deutschland mit {} sind {}'.format(v, results)\n",
    "        else: # nothing given\n",
    "            ret = 'Darauf weiß ich keine Antwort'\n",
    "    return ret\n",
    "\n"
   ]
  },
  {
   "cell_type": "code",
   "execution_count": null,
   "id": "6982c62c",
   "metadata": {
    "scrolled": true
   },
   "outputs": [],
   "source": [
    "dialogmanager()"
   ]
  },
  {
   "cell_type": "code",
   "execution_count": null,
   "id": "2530b43f",
   "metadata": {},
   "outputs": [],
   "source": [
    "vaccinations = requests.get('https://api.corona-zahlen.org/vaccinations')"
   ]
  },
  {
   "cell_type": "code",
   "execution_count": null,
   "id": "4dcca815",
   "metadata": {},
   "outputs": [],
   "source": [
    "import pickle\n",
    "pickle.dump(vaccinations.json(), open( \"vaccination_data.pkl\", \"wb\" ) ) "
   ]
  },
  {
   "cell_type": "code",
   "execution_count": null,
   "id": "e91a759d",
   "metadata": {},
   "outputs": [],
   "source": [
    "vacc_number = vaccinations.json()[\"data\"][\"states\"]['BY']['vaccinated']"
   ]
  },
  {
   "cell_type": "code",
   "execution_count": null,
   "id": "56af31f5",
   "metadata": {},
   "outputs": [],
   "source": [
    "data.json()[\"data\"]['SH']['cases']"
   ]
  },
  {
   "cell_type": "code",
   "execution_count": null,
   "id": "dcfb3706",
   "metadata": {},
   "outputs": [],
   "source": [
    "data.json()"
   ]
  },
  {
   "cell_type": "code",
   "execution_count": null,
   "id": "9644b2e5",
   "metadata": {},
   "outputs": [],
   "source": [
    "vaccinations = requests.get('https://api.corona-zahlen.org/germany')"
   ]
  },
  {
   "cell_type": "code",
   "execution_count": null,
   "id": "b2d31c7f",
   "metadata": {},
   "outputs": [],
   "source": [
    "data = requests.get('https://api.corona-zahlen.org/states')"
   ]
  },
  {
   "cell_type": "code",
   "execution_count": null,
   "id": "15f35146",
   "metadata": {},
   "outputs": [],
   "source": [
    "vaccinations"
   ]
  },
  {
   "cell_type": "code",
   "execution_count": null,
   "id": "5f022eaa",
   "metadata": {},
   "outputs": [],
   "source": []
  }
 ],
 "metadata": {
  "kernelspec": {
   "display_name": "Python 3",
   "language": "python",
   "name": "python3"
  },
  "language_info": {
   "codemirror_mode": {
    "name": "ipython",
    "version": 3
   },
   "file_extension": ".py",
   "mimetype": "text/x-python",
   "name": "python",
   "nbconvert_exporter": "python",
   "pygments_lexer": "ipython3",
   "version": "3.8.2"
  }
 },
 "nbformat": 4,
 "nbformat_minor": 5
}
