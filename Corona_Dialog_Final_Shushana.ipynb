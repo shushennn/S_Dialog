{
 "cells": [
  {
   "cell_type": "markdown",
   "id": "1a122ec6",
   "metadata": {},
   "source": [
    "# <span style='color:darkblue'> Praktische Anwendungen in Berufsfeldern: Dialogsystem </span>\n",
    "\n",
    "## *Professor Burkhardt*\n",
    "\n",
    "### *Shushen Manakhimova*\n",
    "#### Sommersemester 2021 01.09.2021"
   ]
  },
  {
   "cell_type": "markdown",
   "id": "3a90c798",
   "metadata": {},
   "source": [
    "In the project we use code by Tobias Wendel (file_update) as well as Elize Project from https://github.com/codeanticode/eliza\n",
    "\n",
    "We begin with downloading all the required modules for the project. Here, we have all the modules required for different parts of the project. Modules are files with Python code (a code library or a set of functions that you need) that can be imported inside another Python Program.\n",
    "\n",
    "You can use any Python source file as a module by executing an import statement in the Python source file."
   ]
  },
  {
   "cell_type": "code",
   "execution_count": 1,
   "id": "8c98faf7",
   "metadata": {},
   "outputs": [],
   "source": [
    "import os, sys #sys&os modules contain functions relevant to the system of your computer, allowing your Python program to interact with it\n",
    "import io #managing file-related input and output operations\n",
    "import requests #accessing data from web\n",
    "from eliza import eliza #impleting eliza chatbot\n",
    "import json #for working with json structures\n",
    "import sox #sound processing\n",
    "from wendel_util import file_update #updates the data from API\n",
    "from incidence import incidence #updates the incidence data from API\n",
    "import emorec #emotion recognition\n",
    "from google.cloud import speech #speech recognition from Google Cloud\n",
    "import sounddevice as sd #recording audio\n",
    "import soundfile as sf #saves audio\n",
    "import numpy as np #module for numerical data\n",
    "from scipy.io.wavfile import write #managing the sample rate of the file\n",
    "import pyttsx3 #text-to-speech conversion library"
   ]
  },
  {
   "cell_type": "markdown",
   "id": "b7f76fc1",
   "metadata": {},
   "source": [
    "## Data Update\n",
    "\n",
    "Here, we get and update the data from the API for vaccination & 7-day incidence"
   ]
  },
  {
   "cell_type": "code",
   "execution_count": 2,
   "id": "52e52250",
   "metadata": {},
   "outputs": [
    {
     "name": "stdout",
     "output_type": "stream",
     "text": [
      "Up To Date\n"
     ]
    }
   ],
   "source": [
    "file_update()\n",
    "vaccinations = open('vaccinations.json')\n",
    "vaccinations = json.load(vaccinations)"
   ]
  },
  {
   "cell_type": "code",
   "execution_count": 3,
   "id": "105a582d",
   "metadata": {},
   "outputs": [
    {
     "name": "stdout",
     "output_type": "stream",
     "text": [
      "Up To Date\n"
     ]
    }
   ],
   "source": [
    "incidence()\n",
    "incidence = open('incidence.json')\n",
    "incidence = json.load(incidence)\n",
    "inc = incidence[\"data\"][0][\"weekIncidence\"]\n",
    "inc = round(inc)"
   ]
  },
  {
   "cell_type": "code",
   "execution_count": 4,
   "id": "b2c3d93d",
   "metadata": {},
   "outputs": [
    {
     "data": {
      "text/plain": [
       "'Treffen sich ein Informatiker und ein Wirtschaftsinformatiker.\\nInformatiker: \"Hast Du schon das neue Ubuntu?\"\\nDer Wirtschaftsinformatiker: \"Nein, ich steh nicht auf Pokemon.\"'"
      ]
     },
     "execution_count": 4,
     "metadata": {},
     "output_type": "execute_result"
    }
   ],
   "source": [
    "joke = requests.get(\"https://v2.jokeapi.dev/joke/Any?lang=de&blacklistFlags=nsfw,racist,sexist&type=single\").json()['joke']\n",
    "joke"
   ]
  },
  {
   "cell_type": "markdown",
   "id": "7d3cffff",
   "metadata": {},
   "source": [
    "## Input\n",
    "\n",
    "### 1. Audio Recording\n",
    "\n",
    "Here, we define the parameters of the recording that is our input, then record & save it. With the help of Google Could Speech-to-Text we later transcribe the recording\n",
    "\n",
    "### 2. Speech-to-Text\n",
    "\n",
    "Transform the input (audio) into text"
   ]
  },
  {
   "cell_type": "code",
   "execution_count": 5,
   "id": "dcf32257",
   "metadata": {},
   "outputs": [],
   "source": [
    "sr = 16000  # Sample rate\n",
    "duration = 5  # Duration of recording\n",
    "filename = 'myfile.wav' #recording of my speech"
   ]
  },
  {
   "cell_type": "code",
   "execution_count": 6,
   "id": "9b3f25de",
   "metadata": {},
   "outputs": [],
   "source": [
    "def record_file(): \n",
    "    data = sd.rec(int(duration * sr), samplerate=sr, channels=1)\n",
    "    sd.wait()  \n",
    "    sf.write(filename, data, sr)\n",
    "    # Convert `data` to 16 bit integers:\n",
    "    y = (np.iinfo(np.int16).max * (data/np.abs(data).max())).astype(np.int16) \n",
    "    write(filename, sr, y)"
   ]
  },
  {
   "cell_type": "code",
   "execution_count": 7,
   "id": "4d53a591",
   "metadata": {},
   "outputs": [],
   "source": [
    "def init_google(): #speech recognition; first we define the function\n",
    "    credentials='/Users/shushanamanakhimova/S_Dialog/.json'\n",
    "    os.environ[\"GOOGLE_APPLICATION_CREDENTIALS\"]=credentials"
   ]
  },
  {
   "cell_type": "code",
   "execution_count": 8,
   "id": "b64c0016",
   "metadata": {},
   "outputs": [],
   "source": [
    "init_google() #initialize"
   ]
  },
  {
   "cell_type": "code",
   "execution_count": 9,
   "id": "4a172e02",
   "metadata": {},
   "outputs": [],
   "source": [
    "def normalize(in_s): #converting all letters to lower or upper case; converting numbers into words, remove stopwords, lemmatization, stemming, etc. \n",
    "    return in_s.lower()"
   ]
  },
  {
   "cell_type": "code",
   "execution_count": 10,
   "id": "a2564db1",
   "metadata": {},
   "outputs": [],
   "source": [
    "def transcribe(): #transcribing our speech & returning it as text\n",
    "    client = speech.SpeechClient()\n",
    "    with io.open(filename, \"rb\") as audio_file:\n",
    "        content = audio_file.read()\n",
    "    audio = speech.RecognitionAudio(content = content)\n",
    "    config = speech.RecognitionConfig(\n",
    "        encoding=speech.RecognitionConfig.AudioEncoding.LINEAR16,\n",
    "        language_code=\"de-DE\",\n",
    "    )\n",
    "    response = client.recognize(config=config, audio=audio)\n",
    "    for result in response.results:\n",
    "        for index, alternative in enumerate(result.alternatives):\n",
    "            print(\"Human_Shushana {}: {}\".format(index, alternative.transcript))\n",
    "            return alternative.transcript"
   ]
  },
  {
   "cell_type": "code",
   "execution_count": 11,
   "id": "1442263c",
   "metadata": {},
   "outputs": [],
   "source": [
    "def speech_input(): #function that receives file with audio and returns text\n",
    "    record_file()\n",
    "    text = transcribe()\n",
    "    return text"
   ]
  },
  {
   "cell_type": "code",
   "execution_count": 12,
   "id": "a053ee9f",
   "metadata": {},
   "outputs": [],
   "source": [
    " def do_input():\n",
    "    return speech_input()"
   ]
  },
  {
   "cell_type": "markdown",
   "id": "c1cf4009",
   "metadata": {},
   "source": [
    "## Semantic Parsing\n",
    "\n",
    "Semantic parsing is needed to turn natural language into formal meaning representations. \n",
    "\n",
    "We create a set of phrases and keywords that will be used in the dialogmanager. This way, keywords will be detected in the input (speech) and forms an answer accordingly"
   ]
  },
  {
   "cell_type": "code",
   "execution_count": 13,
   "id": "f537af86",
   "metadata": {},
   "outputs": [],
   "source": [
    "phrases = {'hello':'Willkommen bei der Corona Impfauskunft. Fragen Sie!', \n",
    "    'continue':'Weiter!', \n",
    "    'goodbye':'Vielen Dank für Ihren Besuch!', \n",
    "    'done':'fertig'}\n",
    "\n",
    "\n",
    "\n",
    "\n",
    "states_d = {'schleswig':'SH', 'hamburg':'HH', 'berlin':'BE', 'bayern':'BY', \n",
    "            'niedersachsen': 'NI', 'bremen': 'HB', \n",
    "            'nordrhein':'NW', 'hessen':'HE', 'rheinland':'RP', 'baden':'BW', \n",
    "            'saarland': 'SL', 'brandenburg':'BB', 'mecklenburg':'MV', 'sachsen':'SN',\n",
    "            'anhalt':'ST', 'thüringen':'TH', 'deutschland':'DE', 'hier':'DE'}\n",
    "state_names = {'SH':'Schleswig-Hostein', 'HH':'Hamburg', 'BE':'Berlin', 'BY':'Bayern', \n",
    "            'NI':'Niedersachsen', 'HB':'Bremen', \n",
    "            'NW': 'Nordrhein Westphalen', 'HE':'Hessen', 'RP':'Rheinland Pfalz', 'BW':'Baden Würthenberg', \n",
    "            'SL':'Saarland', 'BB':'Brandenburg', 'MV':'Mecklenburg Vorpommern', \n",
    "            'SN': 'Sachsen', 'ST':'Sachsen-Anhalt', 'TH':'Thüringen', 'DE':'Deutschland'}\n",
    "vaccines_d = {'biontech':'biontech', 'biontec':'biontech', \n",
    "              'moderna':'moderna', \n",
    "              'janssen':'janssen', 'jansen':'janssen',\n",
    "              'delta':'delta',\n",
    "              'astraZeneca':'astraZeneca', 'astra':'astraZeneca', 'zeneca':'astraZeneca'}\n",
    "vaccine_names = {'biontech':'Biontech', 'moderna':'Moderna', 'janssen':'Janssen', 'delta':'Delta',\n",
    "              'astraZeneca':'Astra Zeneca'}\n",
    "incidence_p = {'Lockdown': 'lockdown', 'lockdown': 'Lockdown', 'geschlossen': 'Geschlossen', 'Geschlossen': 'geschlossen'}\n",
    "joke_p = {'Witze': 'witze', 'witze': 'witze', 'Witz': 'witze', 'witz': 'witze'}"
   ]
  },
  {
   "cell_type": "code",
   "execution_count": 15,
   "id": "436c96ab",
   "metadata": {},
   "outputs": [],
   "source": [
    "#this function looks for the keywords in the input(speech). when found, it adds the key to the semantics array\n",
    "def semantic(input_s):\n",
    "    semantics = {'state':'', 'vaccine':'', 'incidence': '', 'joke':'', 'answer':0} \n",
    "    for key in states_d.keys():\n",
    "        if key in input_s:\n",
    "            semantics['state'] = states_d[key]\n",
    "            break\n",
    "    for key in vaccines_d.keys():\n",
    "        if key in input_s:\n",
    "            semantics['vaccine'] = vaccines_d[key]\n",
    "            break\n",
    "    for key in incidence_p.keys():\n",
    "        if key in input_s:\n",
    "            semantics['incidence'] = incidence_p[key]\n",
    "            break\n",
    "    for key in joke_p.keys():\n",
    "        if key in input_s:\n",
    "            semantics['joke'] = joke\n",
    "            break\n",
    "    return semantics"
   ]
  },
  {
   "cell_type": "code",
   "execution_count": 16,
   "id": "7d584df0",
   "metadata": {},
   "outputs": [],
   "source": [
    "# checking what kind of information has been added to the semantics array (vaccine, incidince, state) and add the appropriate info to the answer\n",
    "# expects semantics: semantics[0] == bundesland, semantics[1] == impfstoff \n",
    "def data(semantics):\n",
    "    s = semantics['state']\n",
    "    v = semantics['vaccine']\n",
    "    i = semantics['incidence']\n",
    "    j = semantics['joke']\n",
    "    if i:\n",
    "        if inc > 30:\n",
    "            semantics['answer'] = 'Ja'\n",
    "        else:\n",
    "            semantics['answer'] = 'Nein'\n",
    "    elif s: # state given\n",
    "        if s != 'DE':\n",
    "            if v: # and vaccine given\n",
    "                semantics['answer'] = vaccinations[\"data\"][\"states\"][s]['vaccination'][v]\n",
    "            else: # all vaccines for state\n",
    "                semantics['answer'] = vaccinations[\"data\"][\"states\"][s]['vaccinated']\n",
    "        else:\n",
    "            if v: # and vaccine given\n",
    "                semantics['answer'] = vaccinations[\"data\"]['vaccination'][v]\n",
    "            else: # all vaccines for Germany\n",
    "                semantics['answer'] = vaccinations['data']['vaccinated']\n",
    "    elif j: \n",
    "        semantics['answer'] = joke    \n",
    "    else: # no state\n",
    "        if v: # but vaccine\n",
    "            semantics['answer'] = vaccinations[\"data\"]['vaccination'][v]\n",
    "        else: # nothing given\n",
    "            semantics['answer'] = None\n",
    "    \n",
    "    return semantics"
   ]
  },
  {
   "cell_type": "markdown",
   "id": "2deaf9a5",
   "metadata": {},
   "source": [
    "### Output\n",
    "\n",
    "The function returns an answer that is an output using the RKI API. \n",
    "If in the input we don't have any COVID-19 questions, the output will be generated with Eliza. "
   ]
  },
  {
   "cell_type": "code",
   "execution_count": 17,
   "id": "12206582",
   "metadata": {},
   "outputs": [],
   "source": [
    "def output(semantics, inputs, elz):\n",
    "    ret = ''\n",
    "\n",
    "    s = semantics['state']\n",
    "    v = semantics['vaccine']\n",
    "    a = semantics['answer']\n",
    "    i = semantics['incidence']\n",
    "    j = semantics['joke']\n",
    "    if i:\n",
    "        ret = '{},  denn die 7-Tage Inzidenz ist {}'.format(a, inc)\n",
    "    elif s: # state given\n",
    "        s = state_names[s]\n",
    "        if v: # and vaccine given\n",
    "            v = vaccine_names[v]\n",
    "            ret = 'Die Impfungen für {} mit {} sind {}'.format(s, v, a)\n",
    "        else: # all vaccines for state\n",
    "            ret = 'Die Impfungen für {} sind {}'.format(s, a)\n",
    "    elif j: \n",
    "        ret = 'Hier ist der Witz: {}'.format(a) \n",
    "    else: # no state\n",
    "        if v: # but vaccine\n",
    "            v = vaccine_names[v]\n",
    "            ret = 'Die Impfungen in Deutschland mit {} sind {}'.format(v, a)\n",
    "        else: # nothing given\n",
    "            ret =  elz.respond(inputs)\n",
    "    \n",
    "    return ret"
   ]
  },
  {
   "cell_type": "markdown",
   "id": "2eeceb10",
   "metadata": {},
   "source": [
    "### Eliza \n",
    "\n",
    "Here, we initialize Eliza that generates output not connected to COVID-19 and continues a dialog by asking questions.\n",
    "\n",
    "We a python file with the code and a text file with the text for dialog in German"
   ]
  },
  {
   "cell_type": "code",
   "execution_count": 18,
   "id": "15147c72",
   "metadata": {},
   "outputs": [],
   "source": [
    "def init_eliza():\n",
    "    root = r'/Users/shushanamanakhimova/S_Dialog/'\n",
    "    elz = eliza.Eliza()\n",
    "    elz.load(root+'eliza/deutsch.txt')\n",
    "    return elz"
   ]
  },
  {
   "cell_type": "markdown",
   "id": "bada3d4d",
   "metadata": {},
   "source": [
    "### Text-to-Speech\n",
    "\n",
    "We generate the bot's speech"
   ]
  },
  {
   "cell_type": "code",
   "execution_count": 19,
   "id": "21fbd025",
   "metadata": {},
   "outputs": [],
   "source": [
    "def tts(text):\n",
    "    engine = pyttsx3.init()\n",
    "    engine.setProperty('voice', 'german')\n",
    "    engine.setProperty('rate', 200)\n",
    "    engine.say(text)\n",
    "    engine.runAndWait()"
   ]
  },
  {
   "cell_type": "code",
   "execution_count": 20,
   "id": "bb857556",
   "metadata": {},
   "outputs": [],
   "source": [
    "def output_s(text):\n",
    "    print('Alexbot: '+text)\n",
    "    tts(text) #prints output generated before"
   ]
  },
  {
   "cell_type": "markdown",
   "id": "0bc4cbba",
   "metadata": {},
   "source": [
    "### Dialogmanager "
   ]
  },
  {
   "cell_type": "code",
   "execution_count": 21,
   "id": "593a069b",
   "metadata": {},
   "outputs": [],
   "source": [
    "emo_dict = {'happiness':'glücklich', 'neutral': 'wie immer', 'anger': 'irritiert', 'sadness': 'traurig', \n",
    "            'fear': 'ängstlich', 'boredom':'gelangweilt', 'disgust':'angeekelt'} #defining emotions for emotion recognisition"
   ]
  },
  {
   "cell_type": "code",
   "execution_count": null,
   "id": "ed10fbee",
   "metadata": {},
   "outputs": [],
   "source": [
    "#we use dialogmanager that controls the dialog and combines all the other functions (emotion recognition, generating answers)\n",
    "def dialogmanager(elz):\n",
    "    output_s(phrases['hello'])\n",
    "    input_s = do_input()\n",
    "    if (input_s):\n",
    "        input_s = normalize(input_s)\n",
    "    while input_s and input_s != phrases['done']: \n",
    "        emotion = emoRec.classify(filename)[0]\n",
    "        emotion_g = emo_dict[emotion]\n",
    "        if (emotion_g == 'traurig' or emotion_g == 'gelangweilt'):\n",
    "            output_s('ich merke du bist '+emotion_g)\n",
    "            output_s('Hier ist ein Witz: '+joke)\n",
    "        else: \n",
    "            output_s('ich merke du bist '+emotion_g)\n",
    "        semantics = semantic(input_s)\n",
    "        semantics = data(semantics)\n",
    "        out_string = output(semantics, input_s, elz)\n",
    "        output_s(out_string)\n",
    "        input_s = do_input()\n",
    "        if (input_s):\n",
    "            input_s = normalize(input_s)\n",
    "    output_s(phrases['goodbye'])"
   ]
  },
  {
   "cell_type": "code",
   "execution_count": 29,
   "id": "974195ff",
   "metadata": {
    "scrolled": true
   },
   "outputs": [
    {
     "name": "stdout",
     "output_type": "stream",
     "text": [
      "Alexbot: Willkommen bei der Corona Impfauskunft. Fragen Sie!\n",
      "Human_Shushana 0: Berlin\n",
      "Alexbot: ich merke du bist glücklich\n",
      "Alexbot: Die Impfungen für Berlin sind 2382412\n",
      "Human_Shushana 0: geschlossen\n",
      "Alexbot: ich merke du bist irritiert\n",
      "Alexbot: Ja,  denn die 7-Tage Inzidenz ist 75\n",
      "Human_Shushana 0: Hessen Hessen\n",
      "Alexbot: ich merke du bist traurig\n",
      "Alexbot: Hier ist ein Witz: Treffen sich ein Informatiker und ein Wirtschaftsinformatiker.\n",
      "Informatiker: \"Hast Du schon das neue Ubuntu?\"\n",
      "Der Wirtschaftsinformatiker: \"Nein, ich steh nicht auf Pokemon.\"\n",
      "Alexbot: ich merke du bist traurig\n",
      "Alexbot: Die Impfungen für Hessen sind 4077902\n",
      "Alexbot: Vielen Dank für Ihren Besuch!\n"
     ]
    }
   ],
   "source": [
    "#finally :) \n",
    "elz = init_eliza() \n",
    "emoRec = emorec.EmoRec() #using the library and code from Emorec to tell emotions in the dialog system\n",
    "dialogmanager(elz)"
   ]
  },
  {
   "cell_type": "code",
   "execution_count": null,
   "id": "ca39ec1e",
   "metadata": {},
   "outputs": [],
   "source": []
  }
 ],
 "metadata": {
  "interpreter": {
   "hash": "4c0a83c770cf16fd91fc106a55dfaa45dfea28f1fe4b971d1d264322b3792468"
  },
  "kernelspec": {
   "display_name": "Python 3",
   "language": "python",
   "name": "python3"
  },
  "language_info": {
   "codemirror_mode": {
    "name": "ipython",
    "version": 3
   },
   "file_extension": ".py",
   "mimetype": "text/x-python",
   "name": "python",
   "nbconvert_exporter": "python",
   "pygments_lexer": "ipython3",
   "version": "3.8.2"
  }
 },
 "nbformat": 4,
 "nbformat_minor": 5
}
